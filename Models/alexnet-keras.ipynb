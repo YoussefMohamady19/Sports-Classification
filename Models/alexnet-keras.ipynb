{
 "cells": [
  {
   "cell_type": "code",
   "execution_count": 1,
   "id": "6da44fb6",
   "metadata": {
    "_cell_guid": "b1076dfc-b9ad-4769-8c92-a6c4dae69d19",
    "_uuid": "8f2839f25d086af736a60e9eeb907d3b93b6e0e5",
    "execution": {
     "iopub.execute_input": "2022-12-25T23:01:46.828047Z",
     "iopub.status.busy": "2022-12-25T23:01:46.826936Z",
     "iopub.status.idle": "2022-12-25T23:01:53.192325Z",
     "shell.execute_reply": "2022-12-25T23:01:53.191348Z"
    },
    "papermill": {
     "duration": 6.378468,
     "end_time": "2022-12-25T23:01:53.194837",
     "exception": false,
     "start_time": "2022-12-25T23:01:46.816369",
     "status": "completed"
    },
    "tags": []
   },
   "outputs": [],
   "source": [
    "import cv2\n",
    "import numpy as np\n",
    "import os\n",
    "import tensorflow as tf\n",
    "from tqdm import tqdm\n",
    "from random import shuffle\n",
    "from tensorflow.python.framework import ops\n",
    "from sklearn.model_selection import train_test_split\n",
    "import matplotlib.pyplot as plt\n",
    "import pandas as pd\n",
    "import albumentations as A\n",
    "import random\n",
    "from albumentations.augmentations.transforms import ChannelShuffle\n",
    "from albumentations.augmentations.transforms import Solarize\n",
    "from keras.models import Sequential\n",
    "from keras.layers import Dense, Dropout, Conv2D, MaxPool2D, Flatten, BatchNormalization\n",
    "from keras.preprocessing.image import ImageDataGenerator\n",
    "from keras.regularizers import l1\n",
    "from keras.layers import Activation"
   ]
  },
  {
   "cell_type": "code",
   "execution_count": 2,
   "id": "6e37aecc",
   "metadata": {
    "execution": {
     "iopub.execute_input": "2022-12-25T23:01:53.203938Z",
     "iopub.status.busy": "2022-12-25T23:01:53.203427Z",
     "iopub.status.idle": "2022-12-25T23:02:10.379488Z",
     "shell.execute_reply": "2022-12-25T23:02:10.377639Z"
    },
    "papermill": {
     "duration": 17.182684,
     "end_time": "2022-12-25T23:02:10.381826",
     "exception": false,
     "start_time": "2022-12-25T23:01:53.199142",
     "status": "completed"
    },
    "tags": []
   },
   "outputs": [
    {
     "name": "stderr",
     "output_type": "stream",
     "text": [
      "100%|██████████| 1681/1681 [00:16<00:00, 98.95it/s] \n"
     ]
    }
   ],
   "source": [
    "dir_train = '/kaggle/input/nn23-sports-image-classification/Train'\n",
    "image_size = 227\n",
    "images=[]\n",
    "\n",
    "\n",
    "for img in tqdm(os.listdir(dir_train)):\n",
    "    path = os.path.join(dir_train, img)\n",
    "    img_data = cv2.imread(path)\n",
    "    img_rgb = cv2.cvtColor(img_data, cv2.COLOR_BGR2RGB)\n",
    "    test_img = cv2.resize(img_rgb, (image_size, image_size))\n",
    "    images.append([test_img,img])"
   ]
  },
  {
   "cell_type": "code",
   "execution_count": 3,
   "id": "070cf8a8",
   "metadata": {
    "execution": {
     "iopub.execute_input": "2022-12-25T23:02:10.406360Z",
     "iopub.status.busy": "2022-12-25T23:02:10.406085Z",
     "iopub.status.idle": "2022-12-25T23:02:10.430269Z",
     "shell.execute_reply": "2022-12-25T23:02:10.428910Z"
    },
    "papermill": {
     "duration": 0.040299,
     "end_time": "2022-12-25T23:02:10.433782",
     "exception": false,
     "start_time": "2022-12-25T23:02:10.393483",
     "status": "completed"
    },
    "tags": []
   },
   "outputs": [
    {
     "name": "stdout",
     "output_type": "stream",
     "text": [
      "156 40 156 40\n",
      "320 80 320 80\n",
      "161 41 161 41\n",
      "192 48 192 48\n",
      "148 37 148 37\n",
      "366 92 366 92\n",
      "1343 338 1343 338\n"
     ]
    }
   ],
   "source": [
    "basket=[]; label_basket=[]\n",
    "football=[]; label_foot=[]\n",
    "row=[]; label_row=[]\n",
    "siwm=[]; label_swim=[]\n",
    "tenn=[]; label_tenn=[]\n",
    "yoga=[]; label_yoga=[]\n",
    "for i in range(len(images)):\n",
    "    word_label = images[i][1][0:4]\n",
    "    if word_label == 'Bask':\n",
    "        basket.append(images[i][0])\n",
    "        label_basket.append(np.array([1,0,0,0,0,0]))\n",
    "    elif word_label == 'Foot':\n",
    "        football.append(images[i][0])\n",
    "        label_foot.append(np.array([0,1,0,0,0,0]))\n",
    "    elif word_label == 'Rowi':\n",
    "        row.append(images[i][0])\n",
    "        label_row.append(np.array([0,0,1,0,0,0]))\n",
    "    elif word_label == 'Swim':\n",
    "        siwm.append(images[i][0])\n",
    "        label_swim.append(np.array([0,0,0,1,0,0]))\n",
    "    elif word_label == 'Tenn':\n",
    "        tenn.append(images[i][0])\n",
    "        label_tenn.append(np.array([0,0,0,0,1,0]))\n",
    "    elif word_label == 'Yoga':\n",
    "        yoga.append(images[i][0])\n",
    "        label_yoga.append(np.array([0,0,0,0,0,1]))\n",
    "x_train1, x_val1, y_train1, y_val1 = train_test_split(basket, label_basket, test_size=0.2, shuffle=True)\n",
    "x_train2, x_val2, y_train2, y_val2 = train_test_split(football, label_foot, test_size=0.2, shuffle=True)\n",
    "x_train3, x_val3, y_train3, y_val3 = train_test_split(row, label_row, test_size=0.2, shuffle=True)\n",
    "x_train4, x_val4, y_train4, y_val4 = train_test_split(siwm, label_swim, test_size=0.2, shuffle=True)\n",
    "x_train5, x_val5, y_train5, y_val5 = train_test_split(tenn, label_tenn, test_size=0.2, shuffle=True)\n",
    "x_train6, x_val6, y_train6, y_val6 = train_test_split(yoga, label_yoga, test_size=0.2, shuffle=True)\n",
    "print(len(x_train1),len(x_val1),len(y_train1),len(y_val1))\n",
    "print(len(x_train2),len(x_val2),len(y_train2),len(y_val2))\n",
    "print(len(x_train3),len(x_val3),len(y_train3),len(y_val3))\n",
    "print(len(x_train4),len(x_val4),len(y_train4),len(y_val4))\n",
    "print(len(x_train5),len(x_val5),len(y_train5),len(y_val5))\n",
    "print(len(x_train6),len(x_val6),len(y_train6),len(y_val6))\n",
    "x_train = x_train1+x_train2+x_train3+x_train4+x_train5+x_train6\n",
    "x_valdation = x_val1+x_val2+x_val3+x_val4+x_val5+x_val6\n",
    "y_train = y_train1+y_train2+y_train3+y_train4+y_train5+y_train6\n",
    "y_valdation = y_val1+y_val2+y_val3+y_val4+y_val5+y_val6\n",
    "print(len(x_train),len(x_valdation),len(y_train),len(y_valdation))\n",
    "basket=[]; label_basket=[]\n",
    "football=[]; label_foot=[]\n",
    "row=[]; label_row=[]\n",
    "siwm=[]; label_swim=[]\n",
    "tenn=[]; label_tenn=[]\n",
    "yoga=[]; label_yoga=[]"
   ]
  },
  {
   "cell_type": "code",
   "execution_count": 4,
   "id": "9a65eadf",
   "metadata": {
    "execution": {
     "iopub.execute_input": "2022-12-25T23:02:10.457596Z",
     "iopub.status.busy": "2022-12-25T23:02:10.456184Z",
     "iopub.status.idle": "2022-12-25T23:02:10.638283Z",
     "shell.execute_reply": "2022-12-25T23:02:10.637079Z"
    },
    "papermill": {
     "duration": 0.196752,
     "end_time": "2022-12-25T23:02:10.641453",
     "exception": false,
     "start_time": "2022-12-25T23:02:10.444701",
     "status": "completed"
    },
    "tags": []
   },
   "outputs": [
    {
     "name": "stdout",
     "output_type": "stream",
     "text": [
      "1343\n",
      "338\n"
     ]
    }
   ],
   "source": [
    "training_data = []\n",
    "validation_data=[]\n",
    "count=len(x_train)\n",
    "count2=len(x_valdation)\n",
    "for i in range(count):\n",
    "    training_data.append([np.array(x_train[i]),y_train[i]])\n",
    "shuffle(training_data)\n",
    "for j in range(count2):\n",
    "    validation_data.append([np.array(x_valdation[j]),y_valdation[j]])\n",
    "shuffle(validation_data)\n",
    "print(len(training_data))\n",
    "print(len(validation_data))\n",
    "\n"
   ]
  },
  {
   "cell_type": "code",
   "execution_count": 5,
   "id": "0fd6ae03",
   "metadata": {
    "execution": {
     "iopub.execute_input": "2022-12-25T23:02:10.667655Z",
     "iopub.status.busy": "2022-12-25T23:02:10.666214Z",
     "iopub.status.idle": "2022-12-25T23:02:20.041517Z",
     "shell.execute_reply": "2022-12-25T23:02:20.039640Z"
    },
    "papermill": {
     "duration": 9.390446,
     "end_time": "2022-12-25T23:02:20.043397",
     "exception": false,
     "start_time": "2022-12-25T23:02:10.652951",
     "status": "completed"
    },
    "tags": []
   },
   "outputs": [
    {
     "name": "stderr",
     "output_type": "stream",
     "text": [
      "100%|██████████| 688/688 [00:09<00:00, 73.89it/s]\n"
     ]
    }
   ],
   "source": [
    "dir_test = '/kaggle/input/nn23-sports-image-classification/Test'\n",
    "testing_data=[]\n",
    "for img in tqdm(os.listdir(dir_test)):\n",
    "    path = os.path.join(dir_test, img)\n",
    "    img_data = cv2.imread(path)\n",
    "    img_rgb = cv2.cvtColor(img_data, cv2.COLOR_BGR2RGB)\n",
    "    img_resize = cv2.resize(img_rgb, (image_size, image_size))\n",
    "    testing_data.append([np.array(img_resize), img])"
   ]
  },
  {
   "cell_type": "code",
   "execution_count": 6,
   "id": "ef212cc6",
   "metadata": {
    "execution": {
     "iopub.execute_input": "2022-12-25T23:02:20.074102Z",
     "iopub.status.busy": "2022-12-25T23:02:20.072548Z",
     "iopub.status.idle": "2022-12-25T23:02:21.095087Z",
     "shell.execute_reply": "2022-12-25T23:02:21.093984Z"
    },
    "papermill": {
     "duration": 1.040047,
     "end_time": "2022-12-25T23:02:21.097699",
     "exception": false,
     "start_time": "2022-12-25T23:02:20.057652",
     "status": "completed"
    },
    "tags": []
   },
   "outputs": [
    {
     "name": "stdout",
     "output_type": "stream",
     "text": [
      "1343 1343\n",
      "688 688\n",
      "338 338\n",
      "(1343, 6)\n"
     ]
    }
   ],
   "source": [
    "X_train = np.array([i[0] for i in training_data]).reshape(-1, image_size, image_size, 3)\n",
    "y_train = np.array([i[1] for i in training_data])\n",
    "X_test = np.array([i[0] for i in testing_data]).reshape(-1, image_size, image_size, 3)\n",
    "y_test = [i[1] for i in testing_data]\n",
    "x_val = np.array([i[0] for i in validation_data]).reshape(-1, image_size, image_size, 3)\n",
    "y_val = np.array([i[1] for i in validation_data])\n",
    "\n",
    "X_train=X_train/255\n",
    "X_test=X_test/255\n",
    "x_val=x_val/255\n",
    "\n",
    "print(len(X_train),len(y_train))\n",
    "print(len(X_test),len(y_test))\n",
    "print(len(x_val),len(y_val))\n",
    "print(y_train.shape)"
   ]
  },
  {
   "cell_type": "code",
   "execution_count": 7,
   "id": "1109383d",
   "metadata": {
    "execution": {
     "iopub.execute_input": "2022-12-25T23:02:21.128951Z",
     "iopub.status.busy": "2022-12-25T23:02:21.127292Z",
     "iopub.status.idle": "2022-12-25T23:02:24.223223Z",
     "shell.execute_reply": "2022-12-25T23:02:24.221772Z"
    },
    "papermill": {
     "duration": 3.112715,
     "end_time": "2022-12-25T23:02:24.225302",
     "exception": false,
     "start_time": "2022-12-25T23:02:21.112587",
     "status": "completed"
    },
    "tags": []
   },
   "outputs": [
    {
     "name": "stderr",
     "output_type": "stream",
     "text": [
      "2022-12-25 23:02:21.484961: I tensorflow/stream_executor/cuda/cuda_gpu_executor.cc:937] successful NUMA node read from SysFS had negative value (-1), but there must be at least one NUMA node, so returning NUMA node zero\n",
      "2022-12-25 23:02:21.629713: I tensorflow/stream_executor/cuda/cuda_gpu_executor.cc:937] successful NUMA node read from SysFS had negative value (-1), but there must be at least one NUMA node, so returning NUMA node zero\n",
      "2022-12-25 23:02:21.630598: I tensorflow/stream_executor/cuda/cuda_gpu_executor.cc:937] successful NUMA node read from SysFS had negative value (-1), but there must be at least one NUMA node, so returning NUMA node zero\n",
      "2022-12-25 23:02:21.633204: I tensorflow/core/platform/cpu_feature_guard.cc:142] This TensorFlow binary is optimized with oneAPI Deep Neural Network Library (oneDNN) to use the following CPU instructions in performance-critical operations:  AVX2 AVX512F FMA\n",
      "To enable them in other operations, rebuild TensorFlow with the appropriate compiler flags.\n",
      "2022-12-25 23:02:21.633591: I tensorflow/stream_executor/cuda/cuda_gpu_executor.cc:937] successful NUMA node read from SysFS had negative value (-1), but there must be at least one NUMA node, so returning NUMA node zero\n",
      "2022-12-25 23:02:21.634596: I tensorflow/stream_executor/cuda/cuda_gpu_executor.cc:937] successful NUMA node read from SysFS had negative value (-1), but there must be at least one NUMA node, so returning NUMA node zero\n",
      "2022-12-25 23:02:21.635512: I tensorflow/stream_executor/cuda/cuda_gpu_executor.cc:937] successful NUMA node read from SysFS had negative value (-1), but there must be at least one NUMA node, so returning NUMA node zero\n",
      "2022-12-25 23:02:23.712843: I tensorflow/stream_executor/cuda/cuda_gpu_executor.cc:937] successful NUMA node read from SysFS had negative value (-1), but there must be at least one NUMA node, so returning NUMA node zero\n",
      "2022-12-25 23:02:23.713723: I tensorflow/stream_executor/cuda/cuda_gpu_executor.cc:937] successful NUMA node read from SysFS had negative value (-1), but there must be at least one NUMA node, so returning NUMA node zero\n",
      "2022-12-25 23:02:23.714397: I tensorflow/stream_executor/cuda/cuda_gpu_executor.cc:937] successful NUMA node read from SysFS had negative value (-1), but there must be at least one NUMA node, so returning NUMA node zero\n",
      "2022-12-25 23:02:23.714991: I tensorflow/core/common_runtime/gpu/gpu_device.cc:1510] Created device /job:localhost/replica:0/task:0/device:GPU:0 with 15401 MB memory:  -> device: 0, name: Tesla P100-PCIE-16GB, pci bus id: 0000:00:04.0, compute capability: 6.0\n",
      "/opt/conda/lib/python3.7/site-packages/keras/optimizer_v2/optimizer_v2.py:356: UserWarning: The `lr` argument is deprecated, use `learning_rate` instead.\n",
      "  \"The `lr` argument is deprecated, use `learning_rate` instead.\")\n"
     ]
    }
   ],
   "source": [
    "\"\"\"\"\"\n",
    "model = Sequential()\n",
    "model.add(Conv2D(input_shape=(image_size,image_size,3),filters=32,kernel_size=(3,3),padding=\"same\", activation=\"relu\"))\n",
    "model.add(Conv2D(filters=32,kernel_size=(3,3), activation=\"relu\"))\n",
    "model.add(MaxPool2D(pool_size=(2,2)))\n",
    "model.add(Conv2D(filters=64,kernel_size=(3,3),padding=\"same\", activation=\"relu\"))\n",
    "model.add(Conv2D(filters=64,kernel_size=(3,3), activation=\"relu\"))\n",
    "model.add(MaxPool2D(pool_size=(2,2)))\n",
    "model.add(Conv2D(filters=128, kernel_size=(3,3), padding=\"same\", activation=\"relu\"))\n",
    "model.add(Conv2D(filters=128, kernel_size=(3,3), activation=\"relu\"))\n",
    "model.add(MaxPool2D(pool_size=(2,2)))\n",
    "model.add(Flatten())\n",
    "model.add(Dense(units=1024,activation=\"relu\", activity_regularizer=l1(0.01)))\n",
    "model.add(Dropout(0.5))\n",
    "model.add(Dense(units=6, activation=\"softmax\"))\n",
    "\n",
    "\n",
    "\n",
    "\n",
    "#compiling the sequential model\n",
    "model.compile(loss='categorical_crossentropy', metrics=['accuracy'], optimizer='adam')\n",
    "\"\"\"\"\"\n",
    "import keras\n",
    "\n",
    "from tensorflow.keras.optimizers import SGD\n",
    "\n",
    "model = Sequential()\n",
    "model.add(Conv2D(input_shape=(image_size,image_size,3),filters=96,kernel_size=(7,7),strides=(2,2),padding=\"same\", activation=\"relu\"))\n",
    "model.add(MaxPool2D(pool_size=(3,3),strides=(2,2)))\n",
    "model.add(BatchNormalization())\n",
    "model.add(Conv2D(filters=256,kernel_size=(5,5),strides=(2,2),padding=\"same\", activation=\"relu\"))\n",
    "model.add(MaxPool2D(pool_size=(3,3),strides=(2,2)))\n",
    "model.add(BatchNormalization())\n",
    "model.add(Conv2D(filters=384,kernel_size=(3,3),padding=\"same\", activation=\"relu\"))\n",
    "model.add(Conv2D(filters=384,kernel_size=(3,3),padding=\"same\", activation=\"relu\"))\n",
    "model.add(Conv2D(filters=256,kernel_size=(3,3),padding=\"same\", activation=\"relu\"))\n",
    "model.add(MaxPool2D(pool_size=(3,3),strides=(2,2)))\n",
    "model.add(Flatten())\n",
    "model.add(Dense(units=4096,activation=\"relu\"))\n",
    "model.add(Dropout(0.5))\n",
    "model.add(Dense(units=4096,activation=\"relu\"))\n",
    "model.add(Dropout(0.5))\n",
    "model.add(Dense(units=6, activation=\"softmax\"))\n",
    "sgd = SGD(lr=0.0001, momentum=0.9, nesterov=True)\n",
    "model.compile(loss='categorical_crossentropy', metrics=['accuracy'], optimizer=sgd)\n",
    "\n"
   ]
  },
  {
   "cell_type": "code",
   "execution_count": 8,
   "id": "6a949ef1",
   "metadata": {
    "execution": {
     "iopub.execute_input": "2022-12-25T23:02:24.255526Z",
     "iopub.status.busy": "2022-12-25T23:02:24.254735Z",
     "iopub.status.idle": "2022-12-25T23:02:24.263661Z",
     "shell.execute_reply": "2022-12-25T23:02:24.262723Z"
    },
    "papermill": {
     "duration": 0.026274,
     "end_time": "2022-12-25T23:02:24.265730",
     "exception": false,
     "start_time": "2022-12-25T23:02:24.239456",
     "status": "completed"
    },
    "tags": []
   },
   "outputs": [
    {
     "name": "stdout",
     "output_type": "stream",
     "text": [
      "Model: \"sequential\"\n",
      "_________________________________________________________________\n",
      "Layer (type)                 Output Shape              Param #   \n",
      "=================================================================\n",
      "conv2d (Conv2D)              (None, 114, 114, 96)      14208     \n",
      "_________________________________________________________________\n",
      "max_pooling2d (MaxPooling2D) (None, 56, 56, 96)        0         \n",
      "_________________________________________________________________\n",
      "batch_normalization (BatchNo (None, 56, 56, 96)        384       \n",
      "_________________________________________________________________\n",
      "conv2d_1 (Conv2D)            (None, 28, 28, 256)       614656    \n",
      "_________________________________________________________________\n",
      "max_pooling2d_1 (MaxPooling2 (None, 13, 13, 256)       0         \n",
      "_________________________________________________________________\n",
      "batch_normalization_1 (Batch (None, 13, 13, 256)       1024      \n",
      "_________________________________________________________________\n",
      "conv2d_2 (Conv2D)            (None, 13, 13, 384)       885120    \n",
      "_________________________________________________________________\n",
      "conv2d_3 (Conv2D)            (None, 13, 13, 384)       1327488   \n",
      "_________________________________________________________________\n",
      "conv2d_4 (Conv2D)            (None, 13, 13, 256)       884992    \n",
      "_________________________________________________________________\n",
      "max_pooling2d_2 (MaxPooling2 (None, 6, 6, 256)         0         \n",
      "_________________________________________________________________\n",
      "flatten (Flatten)            (None, 9216)              0         \n",
      "_________________________________________________________________\n",
      "dense (Dense)                (None, 4096)              37752832  \n",
      "_________________________________________________________________\n",
      "dropout (Dropout)            (None, 4096)              0         \n",
      "_________________________________________________________________\n",
      "dense_1 (Dense)              (None, 4096)              16781312  \n",
      "_________________________________________________________________\n",
      "dropout_1 (Dropout)          (None, 4096)              0         \n",
      "_________________________________________________________________\n",
      "dense_2 (Dense)              (None, 6)                 24582     \n",
      "=================================================================\n",
      "Total params: 58,286,598\n",
      "Trainable params: 58,285,894\n",
      "Non-trainable params: 704\n",
      "_________________________________________________________________\n"
     ]
    }
   ],
   "source": [
    "import keras\n",
    "model.summary()\n",
    "es_callback = keras.callbacks.EarlyStopping(monitor='val_loss', patience=5)"
   ]
  },
  {
   "cell_type": "code",
   "execution_count": 9,
   "id": "057985bb",
   "metadata": {
    "execution": {
     "iopub.execute_input": "2022-12-25T23:02:24.295159Z",
     "iopub.status.busy": "2022-12-25T23:02:24.294294Z",
     "iopub.status.idle": "2022-12-25T23:03:45.129838Z",
     "shell.execute_reply": "2022-12-25T23:03:45.128833Z"
    },
    "papermill": {
     "duration": 80.852347,
     "end_time": "2022-12-25T23:03:45.131824",
     "exception": false,
     "start_time": "2022-12-25T23:02:24.279477",
     "status": "completed"
    },
    "tags": []
   },
   "outputs": [
    {
     "name": "stderr",
     "output_type": "stream",
     "text": [
      "2022-12-25 23:02:24.615048: W tensorflow/core/framework/cpu_allocator_impl.cc:80] Allocation of 830441364 exceeds 10% of free system memory.\n",
      "2022-12-25 23:02:25.561771: W tensorflow/core/framework/cpu_allocator_impl.cc:80] Allocation of 830441364 exceeds 10% of free system memory.\n",
      "2022-12-25 23:02:26.253400: I tensorflow/compiler/mlir/mlir_graph_optimization_pass.cc:185] None of the MLIR Optimization Passes are enabled (registered 2)\n"
     ]
    },
    {
     "name": "stdout",
     "output_type": "stream",
     "text": [
      "Epoch 1/100\n"
     ]
    },
    {
     "name": "stderr",
     "output_type": "stream",
     "text": [
      "2022-12-25 23:02:27.661049: I tensorflow/stream_executor/cuda/cuda_dnn.cc:369] Loaded cuDNN version 8005\n"
     ]
    },
    {
     "name": "stdout",
     "output_type": "stream",
     "text": [
      "42/42 [==============================] - 11s 85ms/step - loss: 1.7606 - accuracy: 0.3083 - val_loss: 1.7614 - val_accuracy: 0.2722\n",
      "Epoch 2/100\n",
      "42/42 [==============================] - 2s 51ms/step - loss: 1.4004 - accuracy: 0.4713 - val_loss: 1.7238 - val_accuracy: 0.2722\n",
      "Epoch 3/100\n",
      "42/42 [==============================] - 2s 52ms/step - loss: 1.2505 - accuracy: 0.5242 - val_loss: 1.7112 - val_accuracy: 0.2751\n",
      "Epoch 4/100\n",
      "42/42 [==============================] - 2s 51ms/step - loss: 1.1602 - accuracy: 0.5674 - val_loss: 1.6902 - val_accuracy: 0.2870\n",
      "Epoch 5/100\n",
      "42/42 [==============================] - 2s 53ms/step - loss: 1.0626 - accuracy: 0.6046 - val_loss: 1.6729 - val_accuracy: 0.3225\n",
      "Epoch 6/100\n",
      "42/42 [==============================] - 2s 51ms/step - loss: 1.0062 - accuracy: 0.6284 - val_loss: 1.6804 - val_accuracy: 0.3432\n",
      "Epoch 7/100\n",
      "42/42 [==============================] - 2s 52ms/step - loss: 0.9744 - accuracy: 0.6418 - val_loss: 1.6547 - val_accuracy: 0.3550\n",
      "Epoch 8/100\n",
      "42/42 [==============================] - 2s 52ms/step - loss: 0.9233 - accuracy: 0.6657 - val_loss: 1.6818 - val_accuracy: 0.3521\n",
      "Epoch 9/100\n",
      "42/42 [==============================] - 2s 51ms/step - loss: 0.9065 - accuracy: 0.6739 - val_loss: 1.5289 - val_accuracy: 0.3876\n",
      "Epoch 10/100\n",
      "42/42 [==============================] - 2s 53ms/step - loss: 0.8634 - accuracy: 0.6873 - val_loss: 1.3947 - val_accuracy: 0.4645\n",
      "Epoch 11/100\n",
      "42/42 [==============================] - 2s 52ms/step - loss: 0.7958 - accuracy: 0.7297 - val_loss: 1.2401 - val_accuracy: 0.4970\n",
      "Epoch 12/100\n",
      "42/42 [==============================] - 2s 51ms/step - loss: 0.7800 - accuracy: 0.7238 - val_loss: 1.0364 - val_accuracy: 0.6183\n",
      "Epoch 13/100\n",
      "42/42 [==============================] - 2s 56ms/step - loss: 0.7389 - accuracy: 0.7305 - val_loss: 0.9667 - val_accuracy: 0.6509\n",
      "Epoch 14/100\n",
      "42/42 [==============================] - 2s 52ms/step - loss: 0.7101 - accuracy: 0.7602 - val_loss: 0.7273 - val_accuracy: 0.7811\n",
      "Epoch 15/100\n",
      "42/42 [==============================] - 2s 53ms/step - loss: 0.6703 - accuracy: 0.7707 - val_loss: 0.7027 - val_accuracy: 0.7811\n",
      "Epoch 16/100\n",
      "42/42 [==============================] - 2s 51ms/step - loss: 0.6571 - accuracy: 0.7789 - val_loss: 0.6888 - val_accuracy: 0.7663\n",
      "Epoch 17/100\n",
      "42/42 [==============================] - 2s 52ms/step - loss: 0.6157 - accuracy: 0.7923 - val_loss: 0.6050 - val_accuracy: 0.7781\n",
      "Epoch 18/100\n",
      "42/42 [==============================] - 2s 52ms/step - loss: 0.5968 - accuracy: 0.8012 - val_loss: 0.5927 - val_accuracy: 0.7988\n",
      "Epoch 19/100\n",
      "42/42 [==============================] - 2s 51ms/step - loss: 0.5745 - accuracy: 0.8019 - val_loss: 0.5387 - val_accuracy: 0.8284\n",
      "Epoch 20/100\n",
      "42/42 [==============================] - 2s 53ms/step - loss: 0.5575 - accuracy: 0.8116 - val_loss: 0.5309 - val_accuracy: 0.8136\n",
      "Epoch 21/100\n",
      "42/42 [==============================] - 2s 52ms/step - loss: 0.5700 - accuracy: 0.8019 - val_loss: 0.5142 - val_accuracy: 0.8107\n",
      "Epoch 22/100\n",
      "42/42 [==============================] - 2s 51ms/step - loss: 0.5219 - accuracy: 0.8258 - val_loss: 0.6241 - val_accuracy: 0.7811\n",
      "Epoch 23/100\n",
      "42/42 [==============================] - 2s 51ms/step - loss: 0.5004 - accuracy: 0.8347 - val_loss: 0.4802 - val_accuracy: 0.8373\n",
      "Epoch 24/100\n",
      "42/42 [==============================] - 2s 51ms/step - loss: 0.4917 - accuracy: 0.8243 - val_loss: 0.4850 - val_accuracy: 0.8343\n",
      "Epoch 25/100\n",
      "42/42 [==============================] - 2s 53ms/step - loss: 0.4805 - accuracy: 0.8354 - val_loss: 0.5177 - val_accuracy: 0.8284\n",
      "Epoch 26/100\n",
      "42/42 [==============================] - 2s 51ms/step - loss: 0.4696 - accuracy: 0.8474 - val_loss: 0.5055 - val_accuracy: 0.8195\n",
      "Epoch 27/100\n",
      "42/42 [==============================] - 2s 54ms/step - loss: 0.4383 - accuracy: 0.8414 - val_loss: 0.4529 - val_accuracy: 0.8284\n",
      "Epoch 28/100\n",
      "42/42 [==============================] - 2s 52ms/step - loss: 0.4392 - accuracy: 0.8585 - val_loss: 0.4888 - val_accuracy: 0.8284\n",
      "Epoch 29/100\n",
      "42/42 [==============================] - 2s 52ms/step - loss: 0.4260 - accuracy: 0.8690 - val_loss: 0.4718 - val_accuracy: 0.8402\n",
      "Epoch 30/100\n",
      "42/42 [==============================] - 2s 54ms/step - loss: 0.4053 - accuracy: 0.8600 - val_loss: 0.5066 - val_accuracy: 0.8254\n",
      "Epoch 31/100\n",
      "42/42 [==============================] - 2s 52ms/step - loss: 0.3988 - accuracy: 0.8809 - val_loss: 0.5150 - val_accuracy: 0.8343\n",
      "Epoch 32/100\n",
      "42/42 [==============================] - 2s 52ms/step - loss: 0.3511 - accuracy: 0.8853 - val_loss: 0.4740 - val_accuracy: 0.8314\n"
     ]
    },
    {
     "data": {
      "text/plain": [
       "<keras.callbacks.History at 0x7f2839b4fe50>"
      ]
     },
     "execution_count": 9,
     "metadata": {},
     "output_type": "execute_result"
    }
   ],
   "source": [
    "model.fit(X_train, y_train, epochs=100,validation_data=(x_val, y_val),callbacks=[es_callback])\n"
   ]
  },
  {
   "cell_type": "code",
   "execution_count": 10,
   "id": "2e84dda4",
   "metadata": {
    "execution": {
     "iopub.execute_input": "2022-12-25T23:03:45.241960Z",
     "iopub.status.busy": "2022-12-25T23:03:45.241047Z",
     "iopub.status.idle": "2022-12-25T23:03:49.806535Z",
     "shell.execute_reply": "2022-12-25T23:03:49.805421Z"
    },
    "papermill": {
     "duration": 4.622797,
     "end_time": "2022-12-25T23:03:49.809461",
     "exception": false,
     "start_time": "2022-12-25T23:03:45.186664",
     "status": "completed"
    },
    "tags": []
   },
   "outputs": [],
   "source": [
    "results = model.predict(X_test)\n"
   ]
  },
  {
   "cell_type": "code",
   "execution_count": 11,
   "id": "1c7e258e",
   "metadata": {
    "execution": {
     "iopub.execute_input": "2022-12-25T23:03:49.920729Z",
     "iopub.status.busy": "2022-12-25T23:03:49.919746Z",
     "iopub.status.idle": "2022-12-25T23:03:49.935005Z",
     "shell.execute_reply": "2022-12-25T23:03:49.933294Z"
    },
    "papermill": {
     "duration": 0.073543,
     "end_time": "2022-12-25T23:03:49.937824",
     "exception": false,
     "start_time": "2022-12-25T23:03:49.864281",
     "status": "completed"
    },
    "tags": []
   },
   "outputs": [
    {
     "name": "stdout",
     "output_type": "stream",
     "text": [
      "[1.2648378e-02 9.7641684e-03 9.6627444e-01 7.6545607e-03 3.4284333e-03\n",
      " 2.3006918e-04]\n"
     ]
    }
   ],
   "source": [
    "print(results[0])"
   ]
  },
  {
   "cell_type": "code",
   "execution_count": 12,
   "id": "43ceaeda",
   "metadata": {
    "execution": {
     "iopub.execute_input": "2022-12-25T23:03:50.046576Z",
     "iopub.status.busy": "2022-12-25T23:03:50.046243Z",
     "iopub.status.idle": "2022-12-25T23:03:51.955287Z",
     "shell.execute_reply": "2022-12-25T23:03:51.954253Z"
    },
    "papermill": {
     "duration": 1.965387,
     "end_time": "2022-12-25T23:03:51.957882",
     "exception": false,
     "start_time": "2022-12-25T23:03:49.992495",
     "status": "completed"
    },
    "tags": []
   },
   "outputs": [],
   "source": [
    "result = pd.DataFrame(columns=['image_name','label'])\n",
    "ids = y_test\n",
    "labels =[]\n",
    "results = model.predict(X_test)\n",
    "for i in range(len(ids)):\n",
    "    prediction = results[i]\n",
    "    L=[prediction[0],prediction[1],prediction[2],prediction[3],prediction[4],prediction[5]]\n",
    "    labels.append(L.index(max(L)))\n",
    "    \n",
    "result['image_name'] = ids\n",
    "result['label']=labels\n",
    "result.to_csv(r'submissionAlexNET8.csv',index=False)"
   ]
  },
  {
   "cell_type": "code",
   "execution_count": 13,
   "id": "4c7bea17",
   "metadata": {
    "execution": {
     "iopub.execute_input": "2022-12-25T23:03:52.065230Z",
     "iopub.status.busy": "2022-12-25T23:03:52.064361Z",
     "iopub.status.idle": "2022-12-25T23:03:52.558848Z",
     "shell.execute_reply": "2022-12-25T23:03:52.557832Z"
    },
    "papermill": {
     "duration": 0.550348,
     "end_time": "2022-12-25T23:03:52.561407",
     "exception": false,
     "start_time": "2022-12-25T23:03:52.011059",
     "status": "completed"
    },
    "tags": []
   },
   "outputs": [],
   "source": [
    "from keras.models import load_model\n",
    "\n",
    "model.save_weights(\"myModel.h5\")"
   ]
  },
  {
   "cell_type": "code",
   "execution_count": 14,
   "id": "5bbf4d1d",
   "metadata": {
    "execution": {
     "iopub.execute_input": "2022-12-25T23:03:52.670627Z",
     "iopub.status.busy": "2022-12-25T23:03:52.669967Z",
     "iopub.status.idle": "2022-12-25T23:03:54.305509Z",
     "shell.execute_reply": "2022-12-25T23:03:54.304515Z"
    },
    "papermill": {
     "duration": 1.692076,
     "end_time": "2022-12-25T23:03:54.308046",
     "exception": false,
     "start_time": "2022-12-25T23:03:52.615970",
     "status": "completed"
    },
    "tags": []
   },
   "outputs": [],
   "source": [
    "result = pd.DataFrame(columns=['image_name','label'])\n",
    "ids = y_test\n",
    "labels =[]\n",
    "results = model.predict(X_test)\n",
    "for i in range(len(ids)):\n",
    "    prediction = results[i]\n",
    "    L=[prediction[0],prediction[1],prediction[2],prediction[3],prediction[4],prediction[5]]\n",
    "    labels.append(L.index(max(L)))\n",
    "    \n",
    "result['image_name'] = ids\n",
    "result['label']=labels\n",
    "result.to_csv(r'submissionAlexNET9.csv',index=False)"
   ]
  }
 ],
 "metadata": {
  "kernelspec": {
   "display_name": "Python 3",
   "language": "python",
   "name": "python3"
  },
  "language_info": {
   "codemirror_mode": {
    "name": "ipython",
    "version": 3
   },
   "file_extension": ".py",
   "mimetype": "text/x-python",
   "name": "python",
   "nbconvert_exporter": "python",
   "pygments_lexer": "ipython3",
   "version": "3.7.12"
  },
  "papermill": {
   "default_parameters": {},
   "duration": 139.437062,
   "end_time": "2022-12-25T23:03:58.441436",
   "environment_variables": {},
   "exception": null,
   "input_path": "__notebook__.ipynb",
   "output_path": "__notebook__.ipynb",
   "parameters": {},
   "start_time": "2022-12-25T23:01:39.004374",
   "version": "2.3.4"
  }
 },
 "nbformat": 4,
 "nbformat_minor": 5
}
