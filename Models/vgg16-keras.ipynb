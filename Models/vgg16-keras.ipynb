{
 "cells": [
  {
   "cell_type": "code",
   "execution_count": 1,
   "id": "734e238c",
   "metadata": {
    "_cell_guid": "b1076dfc-b9ad-4769-8c92-a6c4dae69d19",
    "_uuid": "8f2839f25d086af736a60e9eeb907d3b93b6e0e5",
    "execution": {
     "iopub.execute_input": "2022-12-25T17:44:18.449941Z",
     "iopub.status.busy": "2022-12-25T17:44:18.449241Z",
     "iopub.status.idle": "2022-12-25T17:44:25.049334Z",
     "shell.execute_reply": "2022-12-25T17:44:25.048203Z"
    },
    "papermill": {
     "duration": 6.6105,
     "end_time": "2022-12-25T17:44:25.051813",
     "exception": false,
     "start_time": "2022-12-25T17:44:18.441313",
     "status": "completed"
    },
    "tags": []
   },
   "outputs": [],
   "source": [
    "import cv2\n",
    "import numpy as np\n",
    "import os\n",
    "import tensorflow as tf\n",
    "from tqdm import tqdm\n",
    "from random import shuffle\n",
    "from tensorflow.python.framework import ops\n",
    "from sklearn.model_selection import train_test_split\n",
    "import matplotlib.pyplot as plt\n",
    "import pandas as pd\n",
    "import albumentations as A\n",
    "import random\n",
    "from albumentations.augmentations.transforms import ChannelShuffle\n",
    "from albumentations.augmentations.transforms import Solarize\n",
    "from keras.models import Sequential\n",
    "from keras.layers import Dense, Dropout, Conv2D, MaxPool2D, Flatten, BatchNormalization\n",
    "from keras.preprocessing.image import ImageDataGenerator\n",
    "from keras.regularizers import l1\n",
    "from keras.layers import Activation"
   ]
  },
  {
   "cell_type": "code",
   "execution_count": 2,
   "id": "b1e836a8",
   "metadata": {
    "execution": {
     "iopub.execute_input": "2022-12-25T17:44:25.061074Z",
     "iopub.status.busy": "2022-12-25T17:44:25.059420Z",
     "iopub.status.idle": "2022-12-25T17:44:40.895800Z",
     "shell.execute_reply": "2022-12-25T17:44:40.894723Z"
    },
    "papermill": {
     "duration": 15.842514,
     "end_time": "2022-12-25T17:44:40.897801",
     "exception": false,
     "start_time": "2022-12-25T17:44:25.055287",
     "status": "completed"
    },
    "tags": []
   },
   "outputs": [
    {
     "name": "stderr",
     "output_type": "stream",
     "text": [
      "100%|██████████| 1681/1681 [00:15<00:00, 106.71it/s]\n"
     ]
    }
   ],
   "source": [
    "dir_train = '/kaggle/input/nn23-sports-image-classification/Train'\n",
    "image_size = 224\n",
    "images=[]\n",
    "\n",
    "\n",
    "for img in tqdm(os.listdir(dir_train)):\n",
    "    path = os.path.join(dir_train, img)\n",
    "    img_data = cv2.imread(path)\n",
    "    img_rgb = cv2.cvtColor(img_data, cv2.COLOR_BGR2RGB)\n",
    "    test_img = cv2.resize(img_rgb, (image_size, image_size))\n",
    "    images.append([test_img,img])"
   ]
  },
  {
   "cell_type": "code",
   "execution_count": 3,
   "id": "80517731",
   "metadata": {
    "execution": {
     "iopub.execute_input": "2022-12-25T17:44:40.918661Z",
     "iopub.status.busy": "2022-12-25T17:44:40.917782Z",
     "iopub.status.idle": "2022-12-25T17:44:40.942644Z",
     "shell.execute_reply": "2022-12-25T17:44:40.940546Z"
    },
    "papermill": {
     "duration": 0.037897,
     "end_time": "2022-12-25T17:44:40.945402",
     "exception": false,
     "start_time": "2022-12-25T17:44:40.907505",
     "status": "completed"
    },
    "tags": []
   },
   "outputs": [
    {
     "name": "stdout",
     "output_type": "stream",
     "text": [
      "156 40 156 40\n",
      "320 80 320 80\n",
      "161 41 161 41\n",
      "192 48 192 48\n",
      "148 37 148 37\n",
      "366 92 366 92\n",
      "1343 338 1343 338\n"
     ]
    }
   ],
   "source": [
    "basket=[]; label_basket=[]\n",
    "football=[]; label_foot=[]\n",
    "row=[]; label_row=[]\n",
    "siwm=[]; label_swim=[]\n",
    "tenn=[]; label_tenn=[]\n",
    "yoga=[]; label_yoga=[]\n",
    "for i in range(len(images)):\n",
    "    word_label = images[i][1][0:4]\n",
    "    if word_label == 'Bask':\n",
    "        basket.append(images[i][0])\n",
    "        label_basket.append(np.array([1,0,0,0,0,0]))\n",
    "    elif word_label == 'Foot':\n",
    "        football.append(images[i][0])\n",
    "        label_foot.append(np.array([0,1,0,0,0,0]))\n",
    "    elif word_label == 'Rowi':\n",
    "        row.append(images[i][0])\n",
    "        label_row.append(np.array([0,0,1,0,0,0]))\n",
    "    elif word_label == 'Swim':\n",
    "        siwm.append(images[i][0])\n",
    "        label_swim.append(np.array([0,0,0,1,0,0]))\n",
    "    elif word_label == 'Tenn':\n",
    "        tenn.append(images[i][0])\n",
    "        label_tenn.append(np.array([0,0,0,0,1,0]))\n",
    "    elif word_label == 'Yoga':\n",
    "        yoga.append(images[i][0])\n",
    "        label_yoga.append(np.array([0,0,0,0,0,1]))\n",
    "x_train1, x_val1, y_train1, y_val1 = train_test_split(basket, label_basket, test_size=0.2, shuffle=True)\n",
    "x_train2, x_val2, y_train2, y_val2 = train_test_split(football, label_foot, test_size=0.2, shuffle=True)\n",
    "x_train3, x_val3, y_train3, y_val3 = train_test_split(row, label_row, test_size=0.2, shuffle=True)\n",
    "x_train4, x_val4, y_train4, y_val4 = train_test_split(siwm, label_swim, test_size=0.2, shuffle=True)\n",
    "x_train5, x_val5, y_train5, y_val5 = train_test_split(tenn, label_tenn, test_size=0.2, shuffle=True)\n",
    "x_train6, x_val6, y_train6, y_val6 = train_test_split(yoga, label_yoga, test_size=0.2, shuffle=True)\n",
    "print(len(x_train1),len(x_val1),len(y_train1),len(y_val1))\n",
    "print(len(x_train2),len(x_val2),len(y_train2),len(y_val2))\n",
    "print(len(x_train3),len(x_val3),len(y_train3),len(y_val3))\n",
    "print(len(x_train4),len(x_val4),len(y_train4),len(y_val4))\n",
    "print(len(x_train5),len(x_val5),len(y_train5),len(y_val5))\n",
    "print(len(x_train6),len(x_val6),len(y_train6),len(y_val6))\n",
    "x_train = x_train1+x_train2+x_train3+x_train4+x_train5+x_train6\n",
    "x_valdation = x_val1+x_val2+x_val3+x_val4+x_val5+x_val6\n",
    "y_train = y_train1+y_train2+y_train3+y_train4+y_train5+y_train6\n",
    "y_valdation = y_val1+y_val2+y_val3+y_val4+y_val5+y_val6\n",
    "print(len(x_train),len(x_valdation),len(y_train),len(y_valdation))\n",
    "basket=[]; label_basket=[]\n",
    "football=[]; label_foot=[]\n",
    "row=[]; label_row=[]\n",
    "siwm=[]; label_swim=[]\n",
    "tenn=[]; label_tenn=[]\n",
    "yoga=[]; label_yoga=[]"
   ]
  },
  {
   "cell_type": "code",
   "execution_count": 4,
   "id": "a563bee9",
   "metadata": {
    "execution": {
     "iopub.execute_input": "2022-12-25T17:44:40.965618Z",
     "iopub.status.busy": "2022-12-25T17:44:40.965359Z",
     "iopub.status.idle": "2022-12-25T17:44:41.144520Z",
     "shell.execute_reply": "2022-12-25T17:44:41.143106Z"
    },
    "papermill": {
     "duration": 0.19158,
     "end_time": "2022-12-25T17:44:41.146770",
     "exception": false,
     "start_time": "2022-12-25T17:44:40.955190",
     "status": "completed"
    },
    "tags": []
   },
   "outputs": [
    {
     "name": "stdout",
     "output_type": "stream",
     "text": [
      "1343\n",
      "338\n"
     ]
    }
   ],
   "source": [
    "training_data = []\n",
    "validation_data=[]\n",
    "count=len(x_train)\n",
    "count2=len(x_valdation)\n",
    "for i in range(count):\n",
    "    training_data.append([np.array(x_train[i]),y_train[i]])\n",
    "shuffle(training_data)\n",
    "for j in range(count2):\n",
    "    validation_data.append([np.array(x_valdation[j]),y_valdation[j]])\n",
    "shuffle(validation_data)\n",
    "print(len(training_data))\n",
    "print(len(validation_data))"
   ]
  },
  {
   "cell_type": "code",
   "execution_count": 5,
   "id": "56ac9f40",
   "metadata": {
    "execution": {
     "iopub.execute_input": "2022-12-25T17:44:41.168388Z",
     "iopub.status.busy": "2022-12-25T17:44:41.168048Z",
     "iopub.status.idle": "2022-12-25T17:44:50.291923Z",
     "shell.execute_reply": "2022-12-25T17:44:50.290534Z"
    },
    "papermill": {
     "duration": 9.137766,
     "end_time": "2022-12-25T17:44:50.294075",
     "exception": false,
     "start_time": "2022-12-25T17:44:41.156309",
     "status": "completed"
    },
    "tags": []
   },
   "outputs": [
    {
     "name": "stderr",
     "output_type": "stream",
     "text": [
      "100%|██████████| 688/688 [00:09<00:00, 75.85it/s]\n"
     ]
    }
   ],
   "source": [
    "dir_test = '/kaggle/input/nn23-sports-image-classification/Test'\n",
    "testing_data=[]\n",
    "for img in tqdm(os.listdir(dir_test)):\n",
    "    path = os.path.join(dir_test, img)\n",
    "    img_data = cv2.imread(path)\n",
    "    img_rgb = cv2.cvtColor(img_data, cv2.COLOR_BGR2RGB)\n",
    "    img_resize = cv2.resize(img_rgb, (image_size, image_size))\n",
    "    testing_data.append([np.array(img_resize), img])"
   ]
  },
  {
   "cell_type": "code",
   "execution_count": 6,
   "id": "425c6dbd",
   "metadata": {
    "execution": {
     "iopub.execute_input": "2022-12-25T17:44:50.321420Z",
     "iopub.status.busy": "2022-12-25T17:44:50.320686Z",
     "iopub.status.idle": "2022-12-25T17:44:50.441284Z",
     "shell.execute_reply": "2022-12-25T17:44:50.440106Z"
    },
    "papermill": {
     "duration": 0.136815,
     "end_time": "2022-12-25T17:44:50.443824",
     "exception": false,
     "start_time": "2022-12-25T17:44:50.307009",
     "status": "completed"
    },
    "tags": []
   },
   "outputs": [
    {
     "name": "stdout",
     "output_type": "stream",
     "text": [
      "1343 1343\n",
      "688 688\n",
      "338 338\n",
      "(1343, 6)\n"
     ]
    }
   ],
   "source": [
    "X_train = np.array([i[0] for i in training_data]).reshape(-1, image_size, image_size, 3)\n",
    "y_train = np.array([i[1] for i in training_data])\n",
    "X_test = np.array([i[0] for i in testing_data]).reshape(-1, image_size, image_size, 3)\n",
    "y_test = [i[1] for i in testing_data]\n",
    "x_val = np.array([i[0] for i in validation_data]).reshape(-1, image_size, image_size, 3)\n",
    "y_val = np.array([i[1] for i in validation_data])\n",
    "\"\"\"\"\"\n",
    "X_train=X_train/255\n",
    "X_test=X_test/255\n",
    "x_val=x_val/255\n",
    "\"\"\"\"\"\n",
    "print(len(X_train),len(y_train))\n",
    "print(len(X_test),len(y_test))\n",
    "print(len(x_val),len(y_val))\n",
    "print(y_train.shape)"
   ]
  },
  {
   "cell_type": "code",
   "execution_count": 7,
   "id": "1695a85f",
   "metadata": {
    "execution": {
     "iopub.execute_input": "2022-12-25T17:44:50.472753Z",
     "iopub.status.busy": "2022-12-25T17:44:50.471281Z",
     "iopub.status.idle": "2022-12-25T17:44:53.743026Z",
     "shell.execute_reply": "2022-12-25T17:44:53.741898Z"
    },
    "papermill": {
     "duration": 3.291394,
     "end_time": "2022-12-25T17:44:53.748545",
     "exception": false,
     "start_time": "2022-12-25T17:44:50.457151",
     "status": "completed"
    },
    "tags": []
   },
   "outputs": [
    {
     "name": "stderr",
     "output_type": "stream",
     "text": [
      "2022-12-25 17:44:50.849144: I tensorflow/stream_executor/cuda/cuda_gpu_executor.cc:937] successful NUMA node read from SysFS had negative value (-1), but there must be at least one NUMA node, so returning NUMA node zero\n",
      "2022-12-25 17:44:50.943289: I tensorflow/stream_executor/cuda/cuda_gpu_executor.cc:937] successful NUMA node read from SysFS had negative value (-1), but there must be at least one NUMA node, so returning NUMA node zero\n",
      "2022-12-25 17:44:50.944048: I tensorflow/stream_executor/cuda/cuda_gpu_executor.cc:937] successful NUMA node read from SysFS had negative value (-1), but there must be at least one NUMA node, so returning NUMA node zero\n",
      "2022-12-25 17:44:50.945349: I tensorflow/core/platform/cpu_feature_guard.cc:142] This TensorFlow binary is optimized with oneAPI Deep Neural Network Library (oneDNN) to use the following CPU instructions in performance-critical operations:  AVX2 AVX512F FMA\n",
      "To enable them in other operations, rebuild TensorFlow with the appropriate compiler flags.\n",
      "2022-12-25 17:44:50.945663: I tensorflow/stream_executor/cuda/cuda_gpu_executor.cc:937] successful NUMA node read from SysFS had negative value (-1), but there must be at least one NUMA node, so returning NUMA node zero\n",
      "2022-12-25 17:44:50.946400: I tensorflow/stream_executor/cuda/cuda_gpu_executor.cc:937] successful NUMA node read from SysFS had negative value (-1), but there must be at least one NUMA node, so returning NUMA node zero\n",
      "2022-12-25 17:44:50.947039: I tensorflow/stream_executor/cuda/cuda_gpu_executor.cc:937] successful NUMA node read from SysFS had negative value (-1), but there must be at least one NUMA node, so returning NUMA node zero\n",
      "2022-12-25 17:44:53.175207: I tensorflow/stream_executor/cuda/cuda_gpu_executor.cc:937] successful NUMA node read from SysFS had negative value (-1), but there must be at least one NUMA node, so returning NUMA node zero\n",
      "2022-12-25 17:44:53.176107: I tensorflow/stream_executor/cuda/cuda_gpu_executor.cc:937] successful NUMA node read from SysFS had negative value (-1), but there must be at least one NUMA node, so returning NUMA node zero\n",
      "2022-12-25 17:44:53.176834: I tensorflow/stream_executor/cuda/cuda_gpu_executor.cc:937] successful NUMA node read from SysFS had negative value (-1), but there must be at least one NUMA node, so returning NUMA node zero\n",
      "2022-12-25 17:44:53.177449: I tensorflow/core/common_runtime/gpu/gpu_device.cc:1510] Created device /job:localhost/replica:0/task:0/device:GPU:0 with 15401 MB memory:  -> device: 0, name: Tesla P100-PCIE-16GB, pci bus id: 0000:00:04.0, compute capability: 6.0\n",
      "/opt/conda/lib/python3.7/site-packages/keras/optimizer_v2/optimizer_v2.py:356: UserWarning: The `lr` argument is deprecated, use `learning_rate` instead.\n",
      "  \"The `lr` argument is deprecated, use `learning_rate` instead.\")\n"
     ]
    }
   ],
   "source": [
    "import keras\n",
    "\n",
    "from tensorflow.keras.optimizers import SGD\n",
    "from tensorflow.keras.optimizers import Adam\n",
    "\n",
    "model = Sequential()\n",
    "model.add(Conv2D(input_shape=(image_size,image_size,3),filters=32,kernel_size=(3,3),padding=\"same\", activation=\"relu\"))\n",
    "model.add(Conv2D(filters=32,kernel_size=(3,3),padding=\"same\", activation=\"relu\"))\n",
    "model.add(MaxPool2D(pool_size=(2,2),strides=(2,2)))\n",
    "model.add(Conv2D(filters=64, kernel_size=(3,3), padding=\"same\", activation=\"relu\"))\n",
    "model.add(Conv2D(filters=64, kernel_size=(3,3), padding=\"same\", activation=\"relu\"))\n",
    "model.add(MaxPool2D(pool_size=(2,2),strides=(2,2)))\n",
    "model.add(Conv2D(filters=128, kernel_size=(3,3), padding=\"same\", activation=\"relu\"))\n",
    "model.add(Conv2D(filters=128, kernel_size=(3,3), padding=\"same\", activation=\"relu\"))\n",
    "model.add(Conv2D(filters=128, kernel_size=(3,3), padding=\"same\", activation=\"relu\"))\n",
    "model.add(MaxPool2D(pool_size=(2,2),strides=(2,2)))\n",
    "model.add(Conv2D(filters=256, kernel_size=(3,3), padding=\"same\", activation=\"relu\"))\n",
    "model.add(Conv2D(filters=256, kernel_size=(3,3), padding=\"same\", activation=\"relu\"))\n",
    "model.add(Conv2D(filters=256, kernel_size=(3,3), padding=\"same\", activation=\"relu\"))\n",
    "model.add(MaxPool2D(pool_size=(2,2),strides=(2,2)))\n",
    "model.add(Conv2D(filters=256, kernel_size=(3,3), padding=\"same\", activation=\"relu\"))\n",
    "model.add(Conv2D(filters=256, kernel_size=(3,3), padding=\"same\", activation=\"relu\"))\n",
    "model.add(Conv2D(filters=256, kernel_size=(3,3), padding=\"same\", activation=\"relu\"))\n",
    "model.add(MaxPool2D(pool_size=(2,2),strides=(2,2)))\n",
    "\n",
    "model.add(Flatten())\n",
    "model.add(Dense(units=2048,activation=\"relu\"))\n",
    "model.add(Dense(units=2048,activation=\"relu\"))\n",
    "model.add(Dense(units=6, activation=\"softmax\"))\n",
    "\n",
    "opt = SGD(learning_rate=0.0001, momentum=0.9)\n",
    "#opt = Adam(lr=0.001)\n",
    "#model.compile(optimizer=opt, loss=keras.losses.categorical_crossentropy, metrics=['accuracy'])\n",
    "model.compile(optimizer=tf.keras.optimizers.RMSprop(lr=0.0001), loss = 'binary_crossentropy', metrics=['accuracy'])"
   ]
  },
  {
   "cell_type": "code",
   "execution_count": 8,
   "id": "fa2e0f16",
   "metadata": {
    "execution": {
     "iopub.execute_input": "2022-12-25T17:44:53.803165Z",
     "iopub.status.busy": "2022-12-25T17:44:53.802835Z",
     "iopub.status.idle": "2022-12-25T17:44:53.817131Z",
     "shell.execute_reply": "2022-12-25T17:44:53.812482Z"
    },
    "papermill": {
     "duration": 0.041835,
     "end_time": "2022-12-25T17:44:53.819908",
     "exception": false,
     "start_time": "2022-12-25T17:44:53.778073",
     "status": "completed"
    },
    "tags": []
   },
   "outputs": [
    {
     "name": "stdout",
     "output_type": "stream",
     "text": [
      "Model: \"sequential\"\n",
      "_________________________________________________________________\n",
      "Layer (type)                 Output Shape              Param #   \n",
      "=================================================================\n",
      "conv2d (Conv2D)              (None, 224, 224, 32)      896       \n",
      "_________________________________________________________________\n",
      "conv2d_1 (Conv2D)            (None, 224, 224, 32)      9248      \n",
      "_________________________________________________________________\n",
      "max_pooling2d (MaxPooling2D) (None, 112, 112, 32)      0         \n",
      "_________________________________________________________________\n",
      "conv2d_2 (Conv2D)            (None, 112, 112, 64)      18496     \n",
      "_________________________________________________________________\n",
      "conv2d_3 (Conv2D)            (None, 112, 112, 64)      36928     \n",
      "_________________________________________________________________\n",
      "max_pooling2d_1 (MaxPooling2 (None, 56, 56, 64)        0         \n",
      "_________________________________________________________________\n",
      "conv2d_4 (Conv2D)            (None, 56, 56, 128)       73856     \n",
      "_________________________________________________________________\n",
      "conv2d_5 (Conv2D)            (None, 56, 56, 128)       147584    \n",
      "_________________________________________________________________\n",
      "conv2d_6 (Conv2D)            (None, 56, 56, 128)       147584    \n",
      "_________________________________________________________________\n",
      "max_pooling2d_2 (MaxPooling2 (None, 28, 28, 128)       0         \n",
      "_________________________________________________________________\n",
      "conv2d_7 (Conv2D)            (None, 28, 28, 256)       295168    \n",
      "_________________________________________________________________\n",
      "conv2d_8 (Conv2D)            (None, 28, 28, 256)       590080    \n",
      "_________________________________________________________________\n",
      "conv2d_9 (Conv2D)            (None, 28, 28, 256)       590080    \n",
      "_________________________________________________________________\n",
      "max_pooling2d_3 (MaxPooling2 (None, 14, 14, 256)       0         \n",
      "_________________________________________________________________\n",
      "conv2d_10 (Conv2D)           (None, 14, 14, 256)       590080    \n",
      "_________________________________________________________________\n",
      "conv2d_11 (Conv2D)           (None, 14, 14, 256)       590080    \n",
      "_________________________________________________________________\n",
      "conv2d_12 (Conv2D)           (None, 14, 14, 256)       590080    \n",
      "_________________________________________________________________\n",
      "max_pooling2d_4 (MaxPooling2 (None, 7, 7, 256)         0         \n",
      "_________________________________________________________________\n",
      "flatten (Flatten)            (None, 12544)             0         \n",
      "_________________________________________________________________\n",
      "dense (Dense)                (None, 2048)              25692160  \n",
      "_________________________________________________________________\n",
      "dense_1 (Dense)              (None, 2048)              4196352   \n",
      "_________________________________________________________________\n",
      "dense_2 (Dense)              (None, 6)                 12294     \n",
      "=================================================================\n",
      "Total params: 33,580,966\n",
      "Trainable params: 33,580,966\n",
      "Non-trainable params: 0\n",
      "_________________________________________________________________\n"
     ]
    }
   ],
   "source": [
    "import keras\n",
    "model.summary()\n",
    "es_callback = keras.callbacks.EarlyStopping(monitor='val_loss', patience=5)\n",
    "#es_callback = keras.callbacks.EarlyStopping(monitor='val_accuracy', mode='max', verbose=1, patience=5)"
   ]
  },
  {
   "cell_type": "code",
   "execution_count": 9,
   "id": "6c3a1a06",
   "metadata": {
    "execution": {
     "iopub.execute_input": "2022-12-25T17:44:53.871552Z",
     "iopub.status.busy": "2022-12-25T17:44:53.871121Z",
     "iopub.status.idle": "2022-12-25T17:45:54.742104Z",
     "shell.execute_reply": "2022-12-25T17:45:54.741038Z"
    },
    "papermill": {
     "duration": 60.898394,
     "end_time": "2022-12-25T17:45:54.744279",
     "exception": false,
     "start_time": "2022-12-25T17:44:53.845885",
     "status": "completed"
    },
    "tags": []
   },
   "outputs": [
    {
     "name": "stderr",
     "output_type": "stream",
     "text": [
      "2022-12-25 17:44:54.378647: I tensorflow/compiler/mlir/mlir_graph_optimization_pass.cc:185] None of the MLIR Optimization Passes are enabled (registered 2)\n"
     ]
    },
    {
     "name": "stdout",
     "output_type": "stream",
     "text": [
      "Epoch 1/100\n"
     ]
    },
    {
     "name": "stderr",
     "output_type": "stream",
     "text": [
      "2022-12-25 17:44:56.685004: I tensorflow/stream_executor/cuda/cuda_dnn.cc:369] Loaded cuDNN version 8005\n"
     ]
    },
    {
     "name": "stdout",
     "output_type": "stream",
     "text": [
      "42/42 [==============================] - 15s 140ms/step - loss: 0.4954 - accuracy: 0.2978 - val_loss: 0.4180 - val_accuracy: 0.4645\n",
      "Epoch 2/100\n",
      "42/42 [==============================] - 4s 89ms/step - loss: 0.3636 - accuracy: 0.5019 - val_loss: 0.4256 - val_accuracy: 0.4024\n",
      "Epoch 3/100\n",
      "42/42 [==============================] - 4s 90ms/step - loss: 0.3199 - accuracy: 0.5540 - val_loss: 0.2975 - val_accuracy: 0.6302\n",
      "Epoch 4/100\n",
      "42/42 [==============================] - 4s 90ms/step - loss: 0.2807 - accuracy: 0.6277 - val_loss: 0.2619 - val_accuracy: 0.6686\n",
      "Epoch 5/100\n",
      "42/42 [==============================] - 4s 89ms/step - loss: 0.2358 - accuracy: 0.6932 - val_loss: 0.2385 - val_accuracy: 0.6923\n",
      "Epoch 6/100\n",
      "42/42 [==============================] - 4s 90ms/step - loss: 0.2057 - accuracy: 0.7349 - val_loss: 0.4445 - val_accuracy: 0.5740\n",
      "Epoch 7/100\n",
      "42/42 [==============================] - 4s 91ms/step - loss: 0.1702 - accuracy: 0.7930 - val_loss: 0.3099 - val_accuracy: 0.6834\n",
      "Epoch 8/100\n",
      "42/42 [==============================] - 4s 89ms/step - loss: 0.1528 - accuracy: 0.8138 - val_loss: 0.2078 - val_accuracy: 0.7544\n",
      "Epoch 9/100\n",
      "42/42 [==============================] - 4s 90ms/step - loss: 0.1269 - accuracy: 0.8555 - val_loss: 0.2313 - val_accuracy: 0.7574\n",
      "Epoch 10/100\n",
      "42/42 [==============================] - 4s 90ms/step - loss: 0.0947 - accuracy: 0.8905 - val_loss: 0.2282 - val_accuracy: 0.7456\n",
      "Epoch 11/100\n",
      "42/42 [==============================] - 4s 89ms/step - loss: 0.0672 - accuracy: 0.9263 - val_loss: 0.2932 - val_accuracy: 0.7633\n",
      "Epoch 12/100\n",
      "42/42 [==============================] - 4s 90ms/step - loss: 0.0690 - accuracy: 0.9434 - val_loss: 0.2398 - val_accuracy: 0.7811\n",
      "Epoch 13/100\n",
      "42/42 [==============================] - 4s 89ms/step - loss: 0.0428 - accuracy: 0.9598 - val_loss: 0.3029 - val_accuracy: 0.7929\n"
     ]
    },
    {
     "data": {
      "text/plain": [
       "<keras.callbacks.History at 0x7fcf00abe090>"
      ]
     },
     "execution_count": 9,
     "metadata": {},
     "output_type": "execute_result"
    }
   ],
   "source": [
    "model.fit(X_train, y_train, epochs=100,validation_data=(x_val, y_val),callbacks=[es_callback])\n"
   ]
  },
  {
   "cell_type": "code",
   "execution_count": 10,
   "id": "90b0f90a",
   "metadata": {
    "execution": {
     "iopub.execute_input": "2022-12-25T17:45:54.828216Z",
     "iopub.status.busy": "2022-12-25T17:45:54.827885Z",
     "iopub.status.idle": "2022-12-25T17:45:56.040104Z",
     "shell.execute_reply": "2022-12-25T17:45:56.039110Z"
    },
    "papermill": {
     "duration": 1.257102,
     "end_time": "2022-12-25T17:45:56.042683",
     "exception": false,
     "start_time": "2022-12-25T17:45:54.785581",
     "status": "completed"
    },
    "tags": []
   },
   "outputs": [],
   "source": [
    "results = model.predict(X_test)\n"
   ]
  },
  {
   "cell_type": "code",
   "execution_count": 11,
   "id": "6245f729",
   "metadata": {
    "execution": {
     "iopub.execute_input": "2022-12-25T17:45:56.127154Z",
     "iopub.status.busy": "2022-12-25T17:45:56.126319Z",
     "iopub.status.idle": "2022-12-25T17:45:56.132084Z",
     "shell.execute_reply": "2022-12-25T17:45:56.131014Z"
    },
    "papermill": {
     "duration": 0.050576,
     "end_time": "2022-12-25T17:45:56.135280",
     "exception": false,
     "start_time": "2022-12-25T17:45:56.084704",
     "status": "completed"
    },
    "tags": []
   },
   "outputs": [
    {
     "name": "stdout",
     "output_type": "stream",
     "text": [
      "[9.9917275e-01 6.3173597e-05 2.4073885e-05 7.3870906e-04 1.1328978e-06\n",
      " 1.2130253e-07]\n"
     ]
    }
   ],
   "source": [
    "print(results[0])\n"
   ]
  },
  {
   "cell_type": "code",
   "execution_count": 12,
   "id": "1cb24322",
   "metadata": {
    "execution": {
     "iopub.execute_input": "2022-12-25T17:45:56.218838Z",
     "iopub.status.busy": "2022-12-25T17:45:56.218566Z",
     "iopub.status.idle": "2022-12-25T17:45:57.128310Z",
     "shell.execute_reply": "2022-12-25T17:45:57.127354Z"
    },
    "papermill": {
     "duration": 0.953667,
     "end_time": "2022-12-25T17:45:57.130784",
     "exception": false,
     "start_time": "2022-12-25T17:45:56.177117",
     "status": "completed"
    },
    "tags": []
   },
   "outputs": [],
   "source": [
    "result = pd.DataFrame(columns=['image_name','label'])\n",
    "ids = y_test\n",
    "labels =[]\n",
    "results = model.predict(X_test)\n",
    "for i in range(len(ids)):\n",
    "    prediction = results[i]\n",
    "    L=[prediction[0],prediction[1],prediction[2],prediction[3],prediction[4],prediction[5]]\n",
    "    labels.append(L.index(max(L)))\n",
    "    \n",
    "result['image_name'] = ids\n",
    "result['label']=labels\n",
    "result.to_csv(r'submissionVGG16K2.csv',index=False)"
   ]
  }
 ],
 "metadata": {
  "kernelspec": {
   "display_name": "Python 3",
   "language": "python",
   "name": "python3"
  },
  "language_info": {
   "codemirror_mode": {
    "name": "ipython",
    "version": 3
   },
   "file_extension": ".py",
   "mimetype": "text/x-python",
   "name": "python",
   "nbconvert_exporter": "python",
   "pygments_lexer": "ipython3",
   "version": "3.7.12"
  },
  "papermill": {
   "default_parameters": {},
   "duration": 110.308201,
   "end_time": "2022-12-25T17:46:01.241233",
   "environment_variables": {},
   "exception": null,
   "input_path": "__notebook__.ipynb",
   "output_path": "__notebook__.ipynb",
   "parameters": {},
   "start_time": "2022-12-25T17:44:10.933032",
   "version": "2.3.4"
  }
 },
 "nbformat": 4,
 "nbformat_minor": 5
}
