{
 "cells": [
  {
   "cell_type": "code",
   "execution_count": 1,
   "id": "d8bdc3f5",
   "metadata": {
    "execution": {
     "iopub.execute_input": "2022-12-26T00:42:00.573340Z",
     "iopub.status.busy": "2022-12-26T00:42:00.572454Z",
     "iopub.status.idle": "2022-12-26T00:42:06.433219Z",
     "shell.execute_reply": "2022-12-26T00:42:06.432148Z"
    },
    "papermill": {
     "duration": 5.871559,
     "end_time": "2022-12-26T00:42:06.435803",
     "exception": false,
     "start_time": "2022-12-26T00:42:00.564244",
     "status": "completed"
    },
    "tags": []
   },
   "outputs": [],
   "source": [
    "import cv2\n",
    "import numpy as np\n",
    "import os\n",
    "from keras.preprocessing.image import ImageDataGenerator\n",
    "from keras import backend as K\n",
    "import keras\n",
    "from keras.models import Sequential, Model,load_model\n",
    "from tensorflow.keras.optimizers import SGD\n",
    "from keras.callbacks import EarlyStopping,ModelCheckpoint\n",
    "from keras.layers import Input, Add, Dense, Activation, ZeroPadding2D, BatchNormalization, Flatten, Conv2D, AveragePooling2D, MaxPooling2D, GlobalMaxPooling2D,MaxPool2D\n",
    "from keras.preprocessing import image\n",
    "from keras.initializers import glorot_uniform\n",
    "from random import shuffle\n",
    "from tqdm import tqdm\n",
    "from sklearn.model_selection import train_test_split\n"
   ]
  },
  {
   "cell_type": "code",
   "execution_count": 2,
   "id": "87c5a2bd",
   "metadata": {
    "execution": {
     "iopub.execute_input": "2022-12-26T00:42:06.448581Z",
     "iopub.status.busy": "2022-12-26T00:42:06.448092Z",
     "iopub.status.idle": "2022-12-26T00:42:20.260588Z",
     "shell.execute_reply": "2022-12-26T00:42:20.258838Z"
    },
    "papermill": {
     "duration": 13.821278,
     "end_time": "2022-12-26T00:42:20.262634",
     "exception": false,
     "start_time": "2022-12-26T00:42:06.441356",
     "status": "completed"
    },
    "tags": []
   },
   "outputs": [
    {
     "name": "stderr",
     "output_type": "stream",
     "text": [
      "100%|██████████| 1681/1681 [00:13<00:00, 122.37it/s]\n"
     ]
    }
   ],
   "source": [
    "dir_train = '/kaggle/input/nn23-sports-image-classification/Train'\n",
    "image_size = 224\n",
    "images=[]\n",
    "\n",
    "\n",
    "for img in tqdm(os.listdir(dir_train)):\n",
    "    path = os.path.join(dir_train, img)\n",
    "    img_data = cv2.imread(path)\n",
    "    img_rgb = cv2.cvtColor(img_data, cv2.COLOR_BGR2RGB)\n",
    "    test_img = cv2.resize(img_rgb, (image_size, image_size))\n",
    "    images.append([test_img,img])"
   ]
  },
  {
   "cell_type": "code",
   "execution_count": 3,
   "id": "3f49a6a8",
   "metadata": {
    "execution": {
     "iopub.execute_input": "2022-12-26T00:42:20.286558Z",
     "iopub.status.busy": "2022-12-26T00:42:20.286233Z",
     "iopub.status.idle": "2022-12-26T00:42:20.312954Z",
     "shell.execute_reply": "2022-12-26T00:42:20.311858Z"
    },
    "papermill": {
     "duration": 0.041275,
     "end_time": "2022-12-26T00:42:20.315237",
     "exception": false,
     "start_time": "2022-12-26T00:42:20.273962",
     "status": "completed"
    },
    "tags": []
   },
   "outputs": [
    {
     "name": "stdout",
     "output_type": "stream",
     "text": [
      "156 40 156 40\n",
      "320 80 320 80\n",
      "161 41 161 41\n",
      "192 48 192 48\n",
      "148 37 148 37\n",
      "366 92 366 92\n",
      "1343 338 1343 338\n"
     ]
    }
   ],
   "source": [
    "basket=[]; label_basket=[]\n",
    "football=[]; label_foot=[]\n",
    "row=[]; label_row=[]\n",
    "siwm=[]; label_swim=[]\n",
    "tenn=[]; label_tenn=[]\n",
    "yoga=[]; label_yoga=[]\n",
    "for i in range(len(images)):\n",
    "    word_label = images[i][1][0:4]\n",
    "    if word_label == 'Bask':\n",
    "        basket.append(images[i][0])\n",
    "        label_basket.append(np.array([1,0,0,0,0,0]))\n",
    "    elif word_label == 'Foot':\n",
    "        football.append(images[i][0])\n",
    "        label_foot.append(np.array([0,1,0,0,0,0]))\n",
    "    elif word_label == 'Rowi':\n",
    "        row.append(images[i][0])\n",
    "        label_row.append(np.array([0,0,1,0,0,0]))\n",
    "    elif word_label == 'Swim':\n",
    "        siwm.append(images[i][0])\n",
    "        label_swim.append(np.array([0,0,0,1,0,0]))\n",
    "    elif word_label == 'Tenn':\n",
    "        tenn.append(images[i][0])\n",
    "        label_tenn.append(np.array([0,0,0,0,1,0]))\n",
    "    elif word_label == 'Yoga':\n",
    "        yoga.append(images[i][0])\n",
    "        label_yoga.append(np.array([0,0,0,0,0,1]))\n",
    "x_train1, x_val1, y_train1, y_val1 = train_test_split(basket, label_basket, test_size=0.2, shuffle=True)\n",
    "x_train2, x_val2, y_train2, y_val2 = train_test_split(football, label_foot, test_size=0.2, shuffle=True)\n",
    "x_train3, x_val3, y_train3, y_val3 = train_test_split(row, label_row, test_size=0.2, shuffle=True)\n",
    "x_train4, x_val4, y_train4, y_val4 = train_test_split(siwm, label_swim, test_size=0.2, shuffle=True)\n",
    "x_train5, x_val5, y_train5, y_val5 = train_test_split(tenn, label_tenn, test_size=0.2, shuffle=True)\n",
    "x_train6, x_val6, y_train6, y_val6 = train_test_split(yoga, label_yoga, test_size=0.2, shuffle=True)\n",
    "print(len(x_train1),len(x_val1),len(y_train1),len(y_val1))\n",
    "print(len(x_train2),len(x_val2),len(y_train2),len(y_val2))\n",
    "print(len(x_train3),len(x_val3),len(y_train3),len(y_val3))\n",
    "print(len(x_train4),len(x_val4),len(y_train4),len(y_val4))\n",
    "print(len(x_train5),len(x_val5),len(y_train5),len(y_val5))\n",
    "print(len(x_train6),len(x_val6),len(y_train6),len(y_val6))\n",
    "x_train = x_train1+x_train2+x_train3+x_train4+x_train5+x_train6\n",
    "x_valdation = x_val1+x_val2+x_val3+x_val4+x_val5+x_val6\n",
    "y_train = y_train1+y_train2+y_train3+y_train4+y_train5+y_train6\n",
    "y_valdation = y_val1+y_val2+y_val3+y_val4+y_val5+y_val6\n",
    "print(len(x_train),len(x_valdation),len(y_train),len(y_valdation))\n",
    "basket=[]; label_basket=[]\n",
    "football=[]; label_foot=[]\n",
    "row=[]; label_row=[]\n",
    "siwm=[]; label_swim=[]\n",
    "tenn=[]; label_tenn=[]\n",
    "yoga=[]; label_yoga=[]"
   ]
  },
  {
   "cell_type": "code",
   "execution_count": 4,
   "id": "6a7aeb09",
   "metadata": {
    "execution": {
     "iopub.execute_input": "2022-12-26T00:42:20.338319Z",
     "iopub.status.busy": "2022-12-26T00:42:20.338018Z",
     "iopub.status.idle": "2022-12-26T00:42:20.514386Z",
     "shell.execute_reply": "2022-12-26T00:42:20.512983Z"
    },
    "papermill": {
     "duration": 0.191146,
     "end_time": "2022-12-26T00:42:20.516604",
     "exception": false,
     "start_time": "2022-12-26T00:42:20.325458",
     "status": "completed"
    },
    "tags": []
   },
   "outputs": [
    {
     "name": "stdout",
     "output_type": "stream",
     "text": [
      "1343\n",
      "338\n"
     ]
    }
   ],
   "source": [
    "training_data = []\n",
    "validation_data=[]\n",
    "count=len(x_train)\n",
    "count2=len(x_valdation)\n",
    "for i in range(count):\n",
    "    training_data.append([np.array(x_train[i]),y_train[i]])\n",
    "shuffle(training_data)\n",
    "for j in range(count2):\n",
    "    validation_data.append([np.array(x_valdation[j]),y_valdation[j]])\n",
    "shuffle(validation_data)\n",
    "print(len(training_data))\n",
    "print(len(validation_data))"
   ]
  },
  {
   "cell_type": "code",
   "execution_count": 5,
   "id": "051e6845",
   "metadata": {
    "execution": {
     "iopub.execute_input": "2022-12-26T00:42:20.538867Z",
     "iopub.status.busy": "2022-12-26T00:42:20.538566Z",
     "iopub.status.idle": "2022-12-26T00:42:29.067524Z",
     "shell.execute_reply": "2022-12-26T00:42:29.065734Z"
    },
    "papermill": {
     "duration": 8.543452,
     "end_time": "2022-12-26T00:42:29.070475",
     "exception": false,
     "start_time": "2022-12-26T00:42:20.527023",
     "status": "completed"
    },
    "tags": []
   },
   "outputs": [
    {
     "name": "stderr",
     "output_type": "stream",
     "text": [
      "100%|██████████| 688/688 [00:08<00:00, 81.02it/s]\n"
     ]
    }
   ],
   "source": [
    "dir_test = '/kaggle/input/nn23-sports-image-classification/Test'\n",
    "testing_data=[]\n",
    "for img in tqdm(os.listdir(dir_test)):\n",
    "    path = os.path.join(dir_test, img)\n",
    "    img_data = cv2.imread(path)\n",
    "    img_rgb = cv2.cvtColor(img_data, cv2.COLOR_BGR2RGB)\n",
    "    img_resize = cv2.resize(img_rgb, (image_size, image_size))\n",
    "    testing_data.append([np.array(img_resize), img])"
   ]
  },
  {
   "cell_type": "code",
   "execution_count": 6,
   "id": "db1c9425",
   "metadata": {
    "execution": {
     "iopub.execute_input": "2022-12-26T00:42:29.099055Z",
     "iopub.status.busy": "2022-12-26T00:42:29.098716Z",
     "iopub.status.idle": "2022-12-26T00:42:29.215860Z",
     "shell.execute_reply": "2022-12-26T00:42:29.214719Z"
    },
    "papermill": {
     "duration": 0.134677,
     "end_time": "2022-12-26T00:42:29.219146",
     "exception": false,
     "start_time": "2022-12-26T00:42:29.084469",
     "status": "completed"
    },
    "tags": []
   },
   "outputs": [
    {
     "name": "stdout",
     "output_type": "stream",
     "text": [
      "1343 1343\n",
      "688 688\n",
      "338 338\n",
      "(1343, 6)\n"
     ]
    }
   ],
   "source": [
    "X_train = np.array([i[0] for i in training_data]).reshape(-1, image_size, image_size, 3)\n",
    "y_train = np.array([i[1] for i in training_data])\n",
    "X_test = np.array([i[0] for i in testing_data]).reshape(-1, image_size, image_size, 3)\n",
    "y_test = [i[1] for i in testing_data]\n",
    "x_val = np.array([i[0] for i in validation_data]).reshape(-1, image_size, image_size, 3)\n",
    "y_val = np.array([i[1] for i in validation_data])\n",
    "\"\"\"\"\"\n",
    "X_train=X_train/255\n",
    "X_test=X_test/255\n",
    "x_val=x_val/255\n",
    "\"\"\"\"\"\n",
    "print(len(X_train),len(y_train))\n",
    "print(len(X_test),len(y_test))\n",
    "print(len(x_val),len(y_val))\n",
    "print(y_train.shape)"
   ]
  },
  {
   "cell_type": "code",
   "execution_count": 7,
   "id": "a2426c04",
   "metadata": {
    "execution": {
     "iopub.execute_input": "2022-12-26T00:42:29.248127Z",
     "iopub.status.busy": "2022-12-26T00:42:29.247585Z",
     "iopub.status.idle": "2022-12-26T00:42:29.255487Z",
     "shell.execute_reply": "2022-12-26T00:42:29.254436Z"
    },
    "papermill": {
     "duration": 0.023914,
     "end_time": "2022-12-26T00:42:29.257430",
     "exception": false,
     "start_time": "2022-12-26T00:42:29.233516",
     "status": "completed"
    },
    "tags": []
   },
   "outputs": [],
   "source": [
    "def identity_block(op, f, filters, stage):\n",
    "    F1, F2, F3 = filters\n",
    "    X_shortcut = op\n",
    "    op = Conv2D(filters=F1, kernel_size=(1, 1), strides=(1, 1), padding='valid', kernel_initializer=glorot_uniform(seed=0))(op)\n",
    "    op = BatchNormalization(axis=3)(op)\n",
    "    op = Activation('relu')(op)\n",
    "    op = Conv2D(filters=F2, kernel_size=(f, f), strides=(1, 1), padding='same', kernel_initializer=glorot_uniform(seed=0))(op)\n",
    "    op = BatchNormalization(axis=3)(op)\n",
    "    op = Activation('relu')(op)\n",
    "    op = Conv2D(filters=F3, kernel_size=(1, 1), strides=(1, 1), padding='valid', kernel_initializer=glorot_uniform(seed=0))(op)\n",
    "    op = BatchNormalization(axis=3)(op)\n",
    "    op = Add()([op, X_shortcut])\n",
    "    op = Activation('relu')(op)\n",
    "    return op"
   ]
  },
  {
   "cell_type": "code",
   "execution_count": 8,
   "id": "0d92869e",
   "metadata": {
    "execution": {
     "iopub.execute_input": "2022-12-26T00:42:29.285698Z",
     "iopub.status.busy": "2022-12-26T00:42:29.284847Z",
     "iopub.status.idle": "2022-12-26T00:42:29.294087Z",
     "shell.execute_reply": "2022-12-26T00:42:29.293093Z"
    },
    "papermill": {
     "duration": 0.025554,
     "end_time": "2022-12-26T00:42:29.296156",
     "exception": false,
     "start_time": "2022-12-26T00:42:29.270602",
     "status": "completed"
    },
    "tags": []
   },
   "outputs": [],
   "source": [
    "def convolutional_block(X, f, filters, stage, s=2):\n",
    "    F1, F2, F3 = filters\n",
    "    X_shortcut = X\n",
    "    X = Conv2D(filters=F1, kernel_size=(1, 1), strides=(s, s), padding='valid', kernel_initializer=glorot_uniform(seed=0))(X)\n",
    "    X = BatchNormalization(axis=3)(X)\n",
    "    X = Activation('relu')(X)\n",
    "    X = Conv2D(filters=F2, kernel_size=(f, f), strides=(1, 1), padding='same', kernel_initializer=glorot_uniform(seed=0))(X)\n",
    "    X = BatchNormalization(axis=3)(X)\n",
    "    X = Activation('relu')(X)\n",
    "    X = Conv2D(filters=F3, kernel_size=(1, 1), strides=(1, 1), padding='valid', kernel_initializer=glorot_uniform(seed=0))(X)\n",
    "    X = BatchNormalization(axis=3)(X)\n",
    "    X_shortcut = Conv2D(filters=F3, kernel_size=(1, 1), strides=(s, s), padding='valid', kernel_initializer=glorot_uniform(seed=0))(X_shortcut)\n",
    "    X_shortcut = BatchNormalization(axis=3)(X_shortcut)\n",
    "    X = Add()([X, X_shortcut])\n",
    "    X = Activation('relu')(X)\n",
    "    return X"
   ]
  },
  {
   "cell_type": "code",
   "execution_count": 9,
   "id": "dbc24b6c",
   "metadata": {
    "execution": {
     "iopub.execute_input": "2022-12-26T00:42:29.325702Z",
     "iopub.status.busy": "2022-12-26T00:42:29.324823Z",
     "iopub.status.idle": "2022-12-26T00:42:29.337179Z",
     "shell.execute_reply": "2022-12-26T00:42:29.336332Z"
    },
    "papermill": {
     "duration": 0.029696,
     "end_time": "2022-12-26T00:42:29.339122",
     "exception": false,
     "start_time": "2022-12-26T00:42:29.309426",
     "status": "completed"
    },
    "tags": []
   },
   "outputs": [],
   "source": [
    "def ResNet50(input_shape):\n",
    "\n",
    "    X_input = Input(input_shape)\n",
    "\n",
    "    X = ZeroPadding2D((3, 3))(X_input)\n",
    "\n",
    "    X = Conv2D(64, (7, 7), strides=(2, 2), name='conv1', kernel_initializer=glorot_uniform(seed=0))(X)\n",
    "    X = BatchNormalization(axis=3)(X)\n",
    "    X = Activation('relu')(X)\n",
    "    X = MaxPooling2D((3, 3), strides=(2, 2))(X)\n",
    "\n",
    "    X = convolutional_block(X, f=3, filters=[64, 64, 256], stage=2, s=1)\n",
    "    X = identity_block(X, 3, [64, 64, 256], stage=2)\n",
    "    X = identity_block(X, 3, [64, 64, 256], stage=2)\n",
    "\n",
    "\n",
    "    X = convolutional_block(X, f=3, filters=[128, 128, 512], stage=3, s=2)\n",
    "    X = identity_block(X, 3, [128, 128, 512], stage=3)\n",
    "    X = identity_block(X, 3, [128, 128, 512], stage=3)\n",
    "    X = identity_block(X, 3, [128, 128, 512], stage=3)\n",
    "\n",
    "    X = convolutional_block(X, f=3, filters=[256, 256, 1024], stage=4, s=2)\n",
    "    X = identity_block(X, 3, [256, 256, 1024], stage=4)\n",
    "    X = identity_block(X, 3, [256, 256, 1024], stage=4)\n",
    "    X = identity_block(X, 3, [256, 256, 1024], stage=4)\n",
    "    X = identity_block(X, 3, [256, 256, 1024], stage=4)\n",
    "    X = identity_block(X, 3, [256, 256, 1024], stage=4)\n",
    "\n",
    "    X = X = convolutional_block(X, f=3, filters=[512, 512, 2048], stage=5, s=2)\n",
    "    X = identity_block(X, 3, [512, 512, 2048], stage=5)\n",
    "    X = identity_block(X, 3, [512, 512, 2048], stage=5)\n",
    "\n",
    "    X = AveragePooling2D(pool_size=(2, 2), padding='same')(X)\n",
    "    \n",
    "    model = Model(inputs=X_input, outputs=X, name='ResNet50')\n",
    "\n",
    "    return model"
   ]
  },
  {
   "cell_type": "code",
   "execution_count": 10,
   "id": "7ccaa4ed",
   "metadata": {
    "execution": {
     "iopub.execute_input": "2022-12-26T00:42:29.366345Z",
     "iopub.status.busy": "2022-12-26T00:42:29.366072Z",
     "iopub.status.idle": "2022-12-26T00:42:33.036210Z",
     "shell.execute_reply": "2022-12-26T00:42:33.035235Z"
    },
    "papermill": {
     "duration": 3.68655,
     "end_time": "2022-12-26T00:42:33.038654",
     "exception": false,
     "start_time": "2022-12-26T00:42:29.352104",
     "status": "completed"
    },
    "tags": []
   },
   "outputs": [
    {
     "name": "stderr",
     "output_type": "stream",
     "text": [
      "2022-12-26 00:42:29.471018: I tensorflow/stream_executor/cuda/cuda_gpu_executor.cc:937] successful NUMA node read from SysFS had negative value (-1), but there must be at least one NUMA node, so returning NUMA node zero\n",
      "2022-12-26 00:42:29.609807: I tensorflow/stream_executor/cuda/cuda_gpu_executor.cc:937] successful NUMA node read from SysFS had negative value (-1), but there must be at least one NUMA node, so returning NUMA node zero\n",
      "2022-12-26 00:42:29.610626: I tensorflow/stream_executor/cuda/cuda_gpu_executor.cc:937] successful NUMA node read from SysFS had negative value (-1), but there must be at least one NUMA node, so returning NUMA node zero\n",
      "2022-12-26 00:42:29.611993: I tensorflow/core/platform/cpu_feature_guard.cc:142] This TensorFlow binary is optimized with oneAPI Deep Neural Network Library (oneDNN) to use the following CPU instructions in performance-critical operations:  AVX2 AVX512F FMA\n",
      "To enable them in other operations, rebuild TensorFlow with the appropriate compiler flags.\n",
      "2022-12-26 00:42:29.612363: I tensorflow/stream_executor/cuda/cuda_gpu_executor.cc:937] successful NUMA node read from SysFS had negative value (-1), but there must be at least one NUMA node, so returning NUMA node zero\n",
      "2022-12-26 00:42:29.613309: I tensorflow/stream_executor/cuda/cuda_gpu_executor.cc:937] successful NUMA node read from SysFS had negative value (-1), but there must be at least one NUMA node, so returning NUMA node zero\n",
      "2022-12-26 00:42:29.614189: I tensorflow/stream_executor/cuda/cuda_gpu_executor.cc:937] successful NUMA node read from SysFS had negative value (-1), but there must be at least one NUMA node, so returning NUMA node zero\n",
      "2022-12-26 00:42:31.796813: I tensorflow/stream_executor/cuda/cuda_gpu_executor.cc:937] successful NUMA node read from SysFS had negative value (-1), but there must be at least one NUMA node, so returning NUMA node zero\n",
      "2022-12-26 00:42:31.797711: I tensorflow/stream_executor/cuda/cuda_gpu_executor.cc:937] successful NUMA node read from SysFS had negative value (-1), but there must be at least one NUMA node, so returning NUMA node zero\n",
      "2022-12-26 00:42:31.798387: I tensorflow/stream_executor/cuda/cuda_gpu_executor.cc:937] successful NUMA node read from SysFS had negative value (-1), but there must be at least one NUMA node, so returning NUMA node zero\n",
      "2022-12-26 00:42:31.798990: I tensorflow/core/common_runtime/gpu/gpu_device.cc:1510] Created device /job:localhost/replica:0/task:0/device:GPU:0 with 15401 MB memory:  -> device: 0, name: Tesla P100-PCIE-16GB, pci bus id: 0000:00:04.0, compute capability: 6.0\n"
     ]
    }
   ],
   "source": [
    "Arc_model = ResNet50(input_shape=(224, 224, 3))\n"
   ]
  },
  {
   "cell_type": "code",
   "execution_count": 11,
   "id": "3aed7b72",
   "metadata": {
    "execution": {
     "iopub.execute_input": "2022-12-26T00:42:33.068126Z",
     "iopub.status.busy": "2022-12-26T00:42:33.066617Z",
     "iopub.status.idle": "2022-12-26T00:42:33.094669Z",
     "shell.execute_reply": "2022-12-26T00:42:33.093821Z"
    },
    "papermill": {
     "duration": 0.044301,
     "end_time": "2022-12-26T00:42:33.096613",
     "exception": false,
     "start_time": "2022-12-26T00:42:33.052312",
     "status": "completed"
    },
    "tags": []
   },
   "outputs": [],
   "source": [
    "outputLayer = Arc_model.output\n",
    "outputLayer = Flatten()(outputLayer)\n",
    "outputLayer=Dense(256, activation='relu', name='fc1',kernel_initializer=glorot_uniform(seed=0))(outputLayer)\n",
    "outputLayer=Dense(128, activation='relu', name='fc2',kernel_initializer=glorot_uniform(seed=0))(outputLayer)\n",
    "outputLayer = Dense( 6,activation='sigmoid', name='fc3',kernel_initializer=glorot_uniform(seed=0))(outputLayer)"
   ]
  },
  {
   "cell_type": "code",
   "execution_count": 12,
   "id": "2d459351",
   "metadata": {
    "execution": {
     "iopub.execute_input": "2022-12-26T00:42:33.124692Z",
     "iopub.status.busy": "2022-12-26T00:42:33.123767Z",
     "iopub.status.idle": "2022-12-26T00:42:33.137411Z",
     "shell.execute_reply": "2022-12-26T00:42:33.136573Z"
    },
    "papermill": {
     "duration": 0.029561,
     "end_time": "2022-12-26T00:42:33.139309",
     "exception": false,
     "start_time": "2022-12-26T00:42:33.109748",
     "status": "completed"
    },
    "tags": []
   },
   "outputs": [],
   "source": [
    "model = Model(inputs=Arc_model.input, outputs=outputLayer)\n"
   ]
  },
  {
   "cell_type": "code",
   "execution_count": 13,
   "id": "0063b7e2",
   "metadata": {
    "execution": {
     "iopub.execute_input": "2022-12-26T00:42:33.166558Z",
     "iopub.status.busy": "2022-12-26T00:42:33.166287Z",
     "iopub.status.idle": "2022-12-26T00:42:33.191101Z",
     "shell.execute_reply": "2022-12-26T00:42:33.190065Z"
    },
    "papermill": {
     "duration": 0.046994,
     "end_time": "2022-12-26T00:42:33.199357",
     "exception": false,
     "start_time": "2022-12-26T00:42:33.152363",
     "status": "completed"
    },
    "tags": []
   },
   "outputs": [
    {
     "name": "stdout",
     "output_type": "stream",
     "text": [
      "Model: \"model\"\n",
      "__________________________________________________________________________________________________\n",
      "Layer (type)                    Output Shape         Param #     Connected to                     \n",
      "==================================================================================================\n",
      "input_1 (InputLayer)            [(None, 224, 224, 3) 0                                            \n",
      "__________________________________________________________________________________________________\n",
      "zero_padding2d (ZeroPadding2D)  (None, 230, 230, 3)  0           input_1[0][0]                    \n",
      "__________________________________________________________________________________________________\n",
      "conv1 (Conv2D)                  (None, 112, 112, 64) 9472        zero_padding2d[0][0]             \n",
      "__________________________________________________________________________________________________\n",
      "batch_normalization (BatchNorma (None, 112, 112, 64) 256         conv1[0][0]                      \n",
      "__________________________________________________________________________________________________\n",
      "activation (Activation)         (None, 112, 112, 64) 0           batch_normalization[0][0]        \n",
      "__________________________________________________________________________________________________\n",
      "max_pooling2d (MaxPooling2D)    (None, 55, 55, 64)   0           activation[0][0]                 \n",
      "__________________________________________________________________________________________________\n",
      "conv2d (Conv2D)                 (None, 55, 55, 64)   4160        max_pooling2d[0][0]              \n",
      "__________________________________________________________________________________________________\n",
      "batch_normalization_1 (BatchNor (None, 55, 55, 64)   256         conv2d[0][0]                     \n",
      "__________________________________________________________________________________________________\n",
      "activation_1 (Activation)       (None, 55, 55, 64)   0           batch_normalization_1[0][0]      \n",
      "__________________________________________________________________________________________________\n",
      "conv2d_1 (Conv2D)               (None, 55, 55, 64)   36928       activation_1[0][0]               \n",
      "__________________________________________________________________________________________________\n",
      "batch_normalization_2 (BatchNor (None, 55, 55, 64)   256         conv2d_1[0][0]                   \n",
      "__________________________________________________________________________________________________\n",
      "activation_2 (Activation)       (None, 55, 55, 64)   0           batch_normalization_2[0][0]      \n",
      "__________________________________________________________________________________________________\n",
      "conv2d_2 (Conv2D)               (None, 55, 55, 256)  16640       activation_2[0][0]               \n",
      "__________________________________________________________________________________________________\n",
      "conv2d_3 (Conv2D)               (None, 55, 55, 256)  16640       max_pooling2d[0][0]              \n",
      "__________________________________________________________________________________________________\n",
      "batch_normalization_3 (BatchNor (None, 55, 55, 256)  1024        conv2d_2[0][0]                   \n",
      "__________________________________________________________________________________________________\n",
      "batch_normalization_4 (BatchNor (None, 55, 55, 256)  1024        conv2d_3[0][0]                   \n",
      "__________________________________________________________________________________________________\n",
      "add (Add)                       (None, 55, 55, 256)  0           batch_normalization_3[0][0]      \n",
      "                                                                 batch_normalization_4[0][0]      \n",
      "__________________________________________________________________________________________________\n",
      "activation_3 (Activation)       (None, 55, 55, 256)  0           add[0][0]                        \n",
      "__________________________________________________________________________________________________\n",
      "conv2d_4 (Conv2D)               (None, 55, 55, 64)   16448       activation_3[0][0]               \n",
      "__________________________________________________________________________________________________\n",
      "batch_normalization_5 (BatchNor (None, 55, 55, 64)   256         conv2d_4[0][0]                   \n",
      "__________________________________________________________________________________________________\n",
      "activation_4 (Activation)       (None, 55, 55, 64)   0           batch_normalization_5[0][0]      \n",
      "__________________________________________________________________________________________________\n",
      "conv2d_5 (Conv2D)               (None, 55, 55, 64)   36928       activation_4[0][0]               \n",
      "__________________________________________________________________________________________________\n",
      "batch_normalization_6 (BatchNor (None, 55, 55, 64)   256         conv2d_5[0][0]                   \n",
      "__________________________________________________________________________________________________\n",
      "activation_5 (Activation)       (None, 55, 55, 64)   0           batch_normalization_6[0][0]      \n",
      "__________________________________________________________________________________________________\n",
      "conv2d_6 (Conv2D)               (None, 55, 55, 256)  16640       activation_5[0][0]               \n",
      "__________________________________________________________________________________________________\n",
      "batch_normalization_7 (BatchNor (None, 55, 55, 256)  1024        conv2d_6[0][0]                   \n",
      "__________________________________________________________________________________________________\n",
      "add_1 (Add)                     (None, 55, 55, 256)  0           batch_normalization_7[0][0]      \n",
      "                                                                 activation_3[0][0]               \n",
      "__________________________________________________________________________________________________\n",
      "activation_6 (Activation)       (None, 55, 55, 256)  0           add_1[0][0]                      \n",
      "__________________________________________________________________________________________________\n",
      "conv2d_7 (Conv2D)               (None, 55, 55, 64)   16448       activation_6[0][0]               \n",
      "__________________________________________________________________________________________________\n",
      "batch_normalization_8 (BatchNor (None, 55, 55, 64)   256         conv2d_7[0][0]                   \n",
      "__________________________________________________________________________________________________\n",
      "activation_7 (Activation)       (None, 55, 55, 64)   0           batch_normalization_8[0][0]      \n",
      "__________________________________________________________________________________________________\n",
      "conv2d_8 (Conv2D)               (None, 55, 55, 64)   36928       activation_7[0][0]               \n",
      "__________________________________________________________________________________________________\n",
      "batch_normalization_9 (BatchNor (None, 55, 55, 64)   256         conv2d_8[0][0]                   \n",
      "__________________________________________________________________________________________________\n",
      "activation_8 (Activation)       (None, 55, 55, 64)   0           batch_normalization_9[0][0]      \n",
      "__________________________________________________________________________________________________\n",
      "conv2d_9 (Conv2D)               (None, 55, 55, 256)  16640       activation_8[0][0]               \n",
      "__________________________________________________________________________________________________\n",
      "batch_normalization_10 (BatchNo (None, 55, 55, 256)  1024        conv2d_9[0][0]                   \n",
      "__________________________________________________________________________________________________\n",
      "add_2 (Add)                     (None, 55, 55, 256)  0           batch_normalization_10[0][0]     \n",
      "                                                                 activation_6[0][0]               \n",
      "__________________________________________________________________________________________________\n",
      "activation_9 (Activation)       (None, 55, 55, 256)  0           add_2[0][0]                      \n",
      "__________________________________________________________________________________________________\n",
      "conv2d_10 (Conv2D)              (None, 28, 28, 128)  32896       activation_9[0][0]               \n",
      "__________________________________________________________________________________________________\n",
      "batch_normalization_11 (BatchNo (None, 28, 28, 128)  512         conv2d_10[0][0]                  \n",
      "__________________________________________________________________________________________________\n",
      "activation_10 (Activation)      (None, 28, 28, 128)  0           batch_normalization_11[0][0]     \n",
      "__________________________________________________________________________________________________\n",
      "conv2d_11 (Conv2D)              (None, 28, 28, 128)  147584      activation_10[0][0]              \n",
      "__________________________________________________________________________________________________\n",
      "batch_normalization_12 (BatchNo (None, 28, 28, 128)  512         conv2d_11[0][0]                  \n",
      "__________________________________________________________________________________________________\n",
      "activation_11 (Activation)      (None, 28, 28, 128)  0           batch_normalization_12[0][0]     \n",
      "__________________________________________________________________________________________________\n",
      "conv2d_12 (Conv2D)              (None, 28, 28, 512)  66048       activation_11[0][0]              \n",
      "__________________________________________________________________________________________________\n",
      "conv2d_13 (Conv2D)              (None, 28, 28, 512)  131584      activation_9[0][0]               \n",
      "__________________________________________________________________________________________________\n",
      "batch_normalization_13 (BatchNo (None, 28, 28, 512)  2048        conv2d_12[0][0]                  \n",
      "__________________________________________________________________________________________________\n",
      "batch_normalization_14 (BatchNo (None, 28, 28, 512)  2048        conv2d_13[0][0]                  \n",
      "__________________________________________________________________________________________________\n",
      "add_3 (Add)                     (None, 28, 28, 512)  0           batch_normalization_13[0][0]     \n",
      "                                                                 batch_normalization_14[0][0]     \n",
      "__________________________________________________________________________________________________\n",
      "activation_12 (Activation)      (None, 28, 28, 512)  0           add_3[0][0]                      \n",
      "__________________________________________________________________________________________________\n",
      "conv2d_14 (Conv2D)              (None, 28, 28, 128)  65664       activation_12[0][0]              \n",
      "__________________________________________________________________________________________________\n",
      "batch_normalization_15 (BatchNo (None, 28, 28, 128)  512         conv2d_14[0][0]                  \n",
      "__________________________________________________________________________________________________\n",
      "activation_13 (Activation)      (None, 28, 28, 128)  0           batch_normalization_15[0][0]     \n",
      "__________________________________________________________________________________________________\n",
      "conv2d_15 (Conv2D)              (None, 28, 28, 128)  147584      activation_13[0][0]              \n",
      "__________________________________________________________________________________________________\n",
      "batch_normalization_16 (BatchNo (None, 28, 28, 128)  512         conv2d_15[0][0]                  \n",
      "__________________________________________________________________________________________________\n",
      "activation_14 (Activation)      (None, 28, 28, 128)  0           batch_normalization_16[0][0]     \n",
      "__________________________________________________________________________________________________\n",
      "conv2d_16 (Conv2D)              (None, 28, 28, 512)  66048       activation_14[0][0]              \n",
      "__________________________________________________________________________________________________\n",
      "batch_normalization_17 (BatchNo (None, 28, 28, 512)  2048        conv2d_16[0][0]                  \n",
      "__________________________________________________________________________________________________\n",
      "add_4 (Add)                     (None, 28, 28, 512)  0           batch_normalization_17[0][0]     \n",
      "                                                                 activation_12[0][0]              \n",
      "__________________________________________________________________________________________________\n",
      "activation_15 (Activation)      (None, 28, 28, 512)  0           add_4[0][0]                      \n",
      "__________________________________________________________________________________________________\n",
      "conv2d_17 (Conv2D)              (None, 28, 28, 128)  65664       activation_15[0][0]              \n",
      "__________________________________________________________________________________________________\n",
      "batch_normalization_18 (BatchNo (None, 28, 28, 128)  512         conv2d_17[0][0]                  \n",
      "__________________________________________________________________________________________________\n",
      "activation_16 (Activation)      (None, 28, 28, 128)  0           batch_normalization_18[0][0]     \n",
      "__________________________________________________________________________________________________\n",
      "conv2d_18 (Conv2D)              (None, 28, 28, 128)  147584      activation_16[0][0]              \n",
      "__________________________________________________________________________________________________\n",
      "batch_normalization_19 (BatchNo (None, 28, 28, 128)  512         conv2d_18[0][0]                  \n",
      "__________________________________________________________________________________________________\n",
      "activation_17 (Activation)      (None, 28, 28, 128)  0           batch_normalization_19[0][0]     \n",
      "__________________________________________________________________________________________________\n",
      "conv2d_19 (Conv2D)              (None, 28, 28, 512)  66048       activation_17[0][0]              \n",
      "__________________________________________________________________________________________________\n",
      "batch_normalization_20 (BatchNo (None, 28, 28, 512)  2048        conv2d_19[0][0]                  \n",
      "__________________________________________________________________________________________________\n",
      "add_5 (Add)                     (None, 28, 28, 512)  0           batch_normalization_20[0][0]     \n",
      "                                                                 activation_15[0][0]              \n",
      "__________________________________________________________________________________________________\n",
      "activation_18 (Activation)      (None, 28, 28, 512)  0           add_5[0][0]                      \n",
      "__________________________________________________________________________________________________\n",
      "conv2d_20 (Conv2D)              (None, 28, 28, 128)  65664       activation_18[0][0]              \n",
      "__________________________________________________________________________________________________\n",
      "batch_normalization_21 (BatchNo (None, 28, 28, 128)  512         conv2d_20[0][0]                  \n",
      "__________________________________________________________________________________________________\n",
      "activation_19 (Activation)      (None, 28, 28, 128)  0           batch_normalization_21[0][0]     \n",
      "__________________________________________________________________________________________________\n",
      "conv2d_21 (Conv2D)              (None, 28, 28, 128)  147584      activation_19[0][0]              \n",
      "__________________________________________________________________________________________________\n",
      "batch_normalization_22 (BatchNo (None, 28, 28, 128)  512         conv2d_21[0][0]                  \n",
      "__________________________________________________________________________________________________\n",
      "activation_20 (Activation)      (None, 28, 28, 128)  0           batch_normalization_22[0][0]     \n",
      "__________________________________________________________________________________________________\n",
      "conv2d_22 (Conv2D)              (None, 28, 28, 512)  66048       activation_20[0][0]              \n",
      "__________________________________________________________________________________________________\n",
      "batch_normalization_23 (BatchNo (None, 28, 28, 512)  2048        conv2d_22[0][0]                  \n",
      "__________________________________________________________________________________________________\n",
      "add_6 (Add)                     (None, 28, 28, 512)  0           batch_normalization_23[0][0]     \n",
      "                                                                 activation_18[0][0]              \n",
      "__________________________________________________________________________________________________\n",
      "activation_21 (Activation)      (None, 28, 28, 512)  0           add_6[0][0]                      \n",
      "__________________________________________________________________________________________________\n",
      "conv2d_23 (Conv2D)              (None, 14, 14, 256)  131328      activation_21[0][0]              \n",
      "__________________________________________________________________________________________________\n",
      "batch_normalization_24 (BatchNo (None, 14, 14, 256)  1024        conv2d_23[0][0]                  \n",
      "__________________________________________________________________________________________________\n",
      "activation_22 (Activation)      (None, 14, 14, 256)  0           batch_normalization_24[0][0]     \n",
      "__________________________________________________________________________________________________\n",
      "conv2d_24 (Conv2D)              (None, 14, 14, 256)  590080      activation_22[0][0]              \n",
      "__________________________________________________________________________________________________\n",
      "batch_normalization_25 (BatchNo (None, 14, 14, 256)  1024        conv2d_24[0][0]                  \n",
      "__________________________________________________________________________________________________\n",
      "activation_23 (Activation)      (None, 14, 14, 256)  0           batch_normalization_25[0][0]     \n",
      "__________________________________________________________________________________________________\n",
      "conv2d_25 (Conv2D)              (None, 14, 14, 1024) 263168      activation_23[0][0]              \n",
      "__________________________________________________________________________________________________\n",
      "conv2d_26 (Conv2D)              (None, 14, 14, 1024) 525312      activation_21[0][0]              \n",
      "__________________________________________________________________________________________________\n",
      "batch_normalization_26 (BatchNo (None, 14, 14, 1024) 4096        conv2d_25[0][0]                  \n",
      "__________________________________________________________________________________________________\n",
      "batch_normalization_27 (BatchNo (None, 14, 14, 1024) 4096        conv2d_26[0][0]                  \n",
      "__________________________________________________________________________________________________\n",
      "add_7 (Add)                     (None, 14, 14, 1024) 0           batch_normalization_26[0][0]     \n",
      "                                                                 batch_normalization_27[0][0]     \n",
      "__________________________________________________________________________________________________\n",
      "activation_24 (Activation)      (None, 14, 14, 1024) 0           add_7[0][0]                      \n",
      "__________________________________________________________________________________________________\n",
      "conv2d_27 (Conv2D)              (None, 14, 14, 256)  262400      activation_24[0][0]              \n",
      "__________________________________________________________________________________________________\n",
      "batch_normalization_28 (BatchNo (None, 14, 14, 256)  1024        conv2d_27[0][0]                  \n",
      "__________________________________________________________________________________________________\n",
      "activation_25 (Activation)      (None, 14, 14, 256)  0           batch_normalization_28[0][0]     \n",
      "__________________________________________________________________________________________________\n",
      "conv2d_28 (Conv2D)              (None, 14, 14, 256)  590080      activation_25[0][0]              \n",
      "__________________________________________________________________________________________________\n",
      "batch_normalization_29 (BatchNo (None, 14, 14, 256)  1024        conv2d_28[0][0]                  \n",
      "__________________________________________________________________________________________________\n",
      "activation_26 (Activation)      (None, 14, 14, 256)  0           batch_normalization_29[0][0]     \n",
      "__________________________________________________________________________________________________\n",
      "conv2d_29 (Conv2D)              (None, 14, 14, 1024) 263168      activation_26[0][0]              \n",
      "__________________________________________________________________________________________________\n",
      "batch_normalization_30 (BatchNo (None, 14, 14, 1024) 4096        conv2d_29[0][0]                  \n",
      "__________________________________________________________________________________________________\n",
      "add_8 (Add)                     (None, 14, 14, 1024) 0           batch_normalization_30[0][0]     \n",
      "                                                                 activation_24[0][0]              \n",
      "__________________________________________________________________________________________________\n",
      "activation_27 (Activation)      (None, 14, 14, 1024) 0           add_8[0][0]                      \n",
      "__________________________________________________________________________________________________\n",
      "conv2d_30 (Conv2D)              (None, 14, 14, 256)  262400      activation_27[0][0]              \n",
      "__________________________________________________________________________________________________\n",
      "batch_normalization_31 (BatchNo (None, 14, 14, 256)  1024        conv2d_30[0][0]                  \n",
      "__________________________________________________________________________________________________\n",
      "activation_28 (Activation)      (None, 14, 14, 256)  0           batch_normalization_31[0][0]     \n",
      "__________________________________________________________________________________________________\n",
      "conv2d_31 (Conv2D)              (None, 14, 14, 256)  590080      activation_28[0][0]              \n",
      "__________________________________________________________________________________________________\n",
      "batch_normalization_32 (BatchNo (None, 14, 14, 256)  1024        conv2d_31[0][0]                  \n",
      "__________________________________________________________________________________________________\n",
      "activation_29 (Activation)      (None, 14, 14, 256)  0           batch_normalization_32[0][0]     \n",
      "__________________________________________________________________________________________________\n",
      "conv2d_32 (Conv2D)              (None, 14, 14, 1024) 263168      activation_29[0][0]              \n",
      "__________________________________________________________________________________________________\n",
      "batch_normalization_33 (BatchNo (None, 14, 14, 1024) 4096        conv2d_32[0][0]                  \n",
      "__________________________________________________________________________________________________\n",
      "add_9 (Add)                     (None, 14, 14, 1024) 0           batch_normalization_33[0][0]     \n",
      "                                                                 activation_27[0][0]              \n",
      "__________________________________________________________________________________________________\n",
      "activation_30 (Activation)      (None, 14, 14, 1024) 0           add_9[0][0]                      \n",
      "__________________________________________________________________________________________________\n",
      "conv2d_33 (Conv2D)              (None, 14, 14, 256)  262400      activation_30[0][0]              \n",
      "__________________________________________________________________________________________________\n",
      "batch_normalization_34 (BatchNo (None, 14, 14, 256)  1024        conv2d_33[0][0]                  \n",
      "__________________________________________________________________________________________________\n",
      "activation_31 (Activation)      (None, 14, 14, 256)  0           batch_normalization_34[0][0]     \n",
      "__________________________________________________________________________________________________\n",
      "conv2d_34 (Conv2D)              (None, 14, 14, 256)  590080      activation_31[0][0]              \n",
      "__________________________________________________________________________________________________\n",
      "batch_normalization_35 (BatchNo (None, 14, 14, 256)  1024        conv2d_34[0][0]                  \n",
      "__________________________________________________________________________________________________\n",
      "activation_32 (Activation)      (None, 14, 14, 256)  0           batch_normalization_35[0][0]     \n",
      "__________________________________________________________________________________________________\n",
      "conv2d_35 (Conv2D)              (None, 14, 14, 1024) 263168      activation_32[0][0]              \n",
      "__________________________________________________________________________________________________\n",
      "batch_normalization_36 (BatchNo (None, 14, 14, 1024) 4096        conv2d_35[0][0]                  \n",
      "__________________________________________________________________________________________________\n",
      "add_10 (Add)                    (None, 14, 14, 1024) 0           batch_normalization_36[0][0]     \n",
      "                                                                 activation_30[0][0]              \n",
      "__________________________________________________________________________________________________\n",
      "activation_33 (Activation)      (None, 14, 14, 1024) 0           add_10[0][0]                     \n",
      "__________________________________________________________________________________________________\n",
      "conv2d_36 (Conv2D)              (None, 14, 14, 256)  262400      activation_33[0][0]              \n",
      "__________________________________________________________________________________________________\n",
      "batch_normalization_37 (BatchNo (None, 14, 14, 256)  1024        conv2d_36[0][0]                  \n",
      "__________________________________________________________________________________________________\n",
      "activation_34 (Activation)      (None, 14, 14, 256)  0           batch_normalization_37[0][0]     \n",
      "__________________________________________________________________________________________________\n",
      "conv2d_37 (Conv2D)              (None, 14, 14, 256)  590080      activation_34[0][0]              \n",
      "__________________________________________________________________________________________________\n",
      "batch_normalization_38 (BatchNo (None, 14, 14, 256)  1024        conv2d_37[0][0]                  \n",
      "__________________________________________________________________________________________________\n",
      "activation_35 (Activation)      (None, 14, 14, 256)  0           batch_normalization_38[0][0]     \n",
      "__________________________________________________________________________________________________\n",
      "conv2d_38 (Conv2D)              (None, 14, 14, 1024) 263168      activation_35[0][0]              \n",
      "__________________________________________________________________________________________________\n",
      "batch_normalization_39 (BatchNo (None, 14, 14, 1024) 4096        conv2d_38[0][0]                  \n",
      "__________________________________________________________________________________________________\n",
      "add_11 (Add)                    (None, 14, 14, 1024) 0           batch_normalization_39[0][0]     \n",
      "                                                                 activation_33[0][0]              \n",
      "__________________________________________________________________________________________________\n",
      "activation_36 (Activation)      (None, 14, 14, 1024) 0           add_11[0][0]                     \n",
      "__________________________________________________________________________________________________\n",
      "conv2d_39 (Conv2D)              (None, 14, 14, 256)  262400      activation_36[0][0]              \n",
      "__________________________________________________________________________________________________\n",
      "batch_normalization_40 (BatchNo (None, 14, 14, 256)  1024        conv2d_39[0][0]                  \n",
      "__________________________________________________________________________________________________\n",
      "activation_37 (Activation)      (None, 14, 14, 256)  0           batch_normalization_40[0][0]     \n",
      "__________________________________________________________________________________________________\n",
      "conv2d_40 (Conv2D)              (None, 14, 14, 256)  590080      activation_37[0][0]              \n",
      "__________________________________________________________________________________________________\n",
      "batch_normalization_41 (BatchNo (None, 14, 14, 256)  1024        conv2d_40[0][0]                  \n",
      "__________________________________________________________________________________________________\n",
      "activation_38 (Activation)      (None, 14, 14, 256)  0           batch_normalization_41[0][0]     \n",
      "__________________________________________________________________________________________________\n",
      "conv2d_41 (Conv2D)              (None, 14, 14, 1024) 263168      activation_38[0][0]              \n",
      "__________________________________________________________________________________________________\n",
      "batch_normalization_42 (BatchNo (None, 14, 14, 1024) 4096        conv2d_41[0][0]                  \n",
      "__________________________________________________________________________________________________\n",
      "add_12 (Add)                    (None, 14, 14, 1024) 0           batch_normalization_42[0][0]     \n",
      "                                                                 activation_36[0][0]              \n",
      "__________________________________________________________________________________________________\n",
      "activation_39 (Activation)      (None, 14, 14, 1024) 0           add_12[0][0]                     \n",
      "__________________________________________________________________________________________________\n",
      "conv2d_42 (Conv2D)              (None, 7, 7, 512)    524800      activation_39[0][0]              \n",
      "__________________________________________________________________________________________________\n",
      "batch_normalization_43 (BatchNo (None, 7, 7, 512)    2048        conv2d_42[0][0]                  \n",
      "__________________________________________________________________________________________________\n",
      "activation_40 (Activation)      (None, 7, 7, 512)    0           batch_normalization_43[0][0]     \n",
      "__________________________________________________________________________________________________\n",
      "conv2d_43 (Conv2D)              (None, 7, 7, 512)    2359808     activation_40[0][0]              \n",
      "__________________________________________________________________________________________________\n",
      "batch_normalization_44 (BatchNo (None, 7, 7, 512)    2048        conv2d_43[0][0]                  \n",
      "__________________________________________________________________________________________________\n",
      "activation_41 (Activation)      (None, 7, 7, 512)    0           batch_normalization_44[0][0]     \n",
      "__________________________________________________________________________________________________\n",
      "conv2d_44 (Conv2D)              (None, 7, 7, 2048)   1050624     activation_41[0][0]              \n",
      "__________________________________________________________________________________________________\n",
      "conv2d_45 (Conv2D)              (None, 7, 7, 2048)   2099200     activation_39[0][0]              \n",
      "__________________________________________________________________________________________________\n",
      "batch_normalization_45 (BatchNo (None, 7, 7, 2048)   8192        conv2d_44[0][0]                  \n",
      "__________________________________________________________________________________________________\n",
      "batch_normalization_46 (BatchNo (None, 7, 7, 2048)   8192        conv2d_45[0][0]                  \n",
      "__________________________________________________________________________________________________\n",
      "add_13 (Add)                    (None, 7, 7, 2048)   0           batch_normalization_45[0][0]     \n",
      "                                                                 batch_normalization_46[0][0]     \n",
      "__________________________________________________________________________________________________\n",
      "activation_42 (Activation)      (None, 7, 7, 2048)   0           add_13[0][0]                     \n",
      "__________________________________________________________________________________________________\n",
      "conv2d_46 (Conv2D)              (None, 7, 7, 512)    1049088     activation_42[0][0]              \n",
      "__________________________________________________________________________________________________\n",
      "batch_normalization_47 (BatchNo (None, 7, 7, 512)    2048        conv2d_46[0][0]                  \n",
      "__________________________________________________________________________________________________\n",
      "activation_43 (Activation)      (None, 7, 7, 512)    0           batch_normalization_47[0][0]     \n",
      "__________________________________________________________________________________________________\n",
      "conv2d_47 (Conv2D)              (None, 7, 7, 512)    2359808     activation_43[0][0]              \n",
      "__________________________________________________________________________________________________\n",
      "batch_normalization_48 (BatchNo (None, 7, 7, 512)    2048        conv2d_47[0][0]                  \n",
      "__________________________________________________________________________________________________\n",
      "activation_44 (Activation)      (None, 7, 7, 512)    0           batch_normalization_48[0][0]     \n",
      "__________________________________________________________________________________________________\n",
      "conv2d_48 (Conv2D)              (None, 7, 7, 2048)   1050624     activation_44[0][0]              \n",
      "__________________________________________________________________________________________________\n",
      "batch_normalization_49 (BatchNo (None, 7, 7, 2048)   8192        conv2d_48[0][0]                  \n",
      "__________________________________________________________________________________________________\n",
      "add_14 (Add)                    (None, 7, 7, 2048)   0           batch_normalization_49[0][0]     \n",
      "                                                                 activation_42[0][0]              \n",
      "__________________________________________________________________________________________________\n",
      "activation_45 (Activation)      (None, 7, 7, 2048)   0           add_14[0][0]                     \n",
      "__________________________________________________________________________________________________\n",
      "conv2d_49 (Conv2D)              (None, 7, 7, 512)    1049088     activation_45[0][0]              \n",
      "__________________________________________________________________________________________________\n",
      "batch_normalization_50 (BatchNo (None, 7, 7, 512)    2048        conv2d_49[0][0]                  \n",
      "__________________________________________________________________________________________________\n",
      "activation_46 (Activation)      (None, 7, 7, 512)    0           batch_normalization_50[0][0]     \n",
      "__________________________________________________________________________________________________\n",
      "conv2d_50 (Conv2D)              (None, 7, 7, 512)    2359808     activation_46[0][0]              \n",
      "__________________________________________________________________________________________________\n",
      "batch_normalization_51 (BatchNo (None, 7, 7, 512)    2048        conv2d_50[0][0]                  \n",
      "__________________________________________________________________________________________________\n",
      "activation_47 (Activation)      (None, 7, 7, 512)    0           batch_normalization_51[0][0]     \n",
      "__________________________________________________________________________________________________\n",
      "conv2d_51 (Conv2D)              (None, 7, 7, 2048)   1050624     activation_47[0][0]              \n",
      "__________________________________________________________________________________________________\n",
      "batch_normalization_52 (BatchNo (None, 7, 7, 2048)   8192        conv2d_51[0][0]                  \n",
      "__________________________________________________________________________________________________\n",
      "add_15 (Add)                    (None, 7, 7, 2048)   0           batch_normalization_52[0][0]     \n",
      "                                                                 activation_45[0][0]              \n",
      "__________________________________________________________________________________________________\n",
      "activation_48 (Activation)      (None, 7, 7, 2048)   0           add_15[0][0]                     \n",
      "__________________________________________________________________________________________________\n",
      "average_pooling2d (AveragePooli (None, 4, 4, 2048)   0           activation_48[0][0]              \n",
      "__________________________________________________________________________________________________\n",
      "flatten (Flatten)               (None, 32768)        0           average_pooling2d[0][0]          \n",
      "__________________________________________________________________________________________________\n",
      "fc1 (Dense)                     (None, 256)          8388864     flatten[0][0]                    \n",
      "__________________________________________________________________________________________________\n",
      "fc2 (Dense)                     (None, 128)          32896       fc1[0][0]                        \n",
      "__________________________________________________________________________________________________\n",
      "fc3 (Dense)                     (None, 6)            774         fc2[0][0]                        \n",
      "==================================================================================================\n",
      "Total params: 32,010,246\n",
      "Trainable params: 31,957,126\n",
      "Non-trainable params: 53,120\n",
      "__________________________________________________________________________________________________\n"
     ]
    }
   ],
   "source": [
    "model.summary()\n"
   ]
  },
  {
   "cell_type": "code",
   "execution_count": 14,
   "id": "86608bf9",
   "metadata": {
    "execution": {
     "iopub.execute_input": "2022-12-26T00:42:33.228295Z",
     "iopub.status.busy": "2022-12-26T00:42:33.228021Z",
     "iopub.status.idle": "2022-12-26T00:42:34.986525Z",
     "shell.execute_reply": "2022-12-26T00:42:34.985548Z"
    },
    "papermill": {
     "duration": 1.775752,
     "end_time": "2022-12-26T00:42:34.989106",
     "exception": false,
     "start_time": "2022-12-26T00:42:33.213354",
     "status": "completed"
    },
    "tags": []
   },
   "outputs": [],
   "source": [
    "Arc_model.load_weights(\"/kaggle/input/resnet50/resnet50_weights_tf_dim_ordering_tf_kernels_notop.h5\")"
   ]
  },
  {
   "cell_type": "code",
   "execution_count": 15,
   "id": "2d95c531",
   "metadata": {
    "execution": {
     "iopub.execute_input": "2022-12-26T00:42:35.019014Z",
     "iopub.status.busy": "2022-12-26T00:42:35.018145Z",
     "iopub.status.idle": "2022-12-26T00:42:35.027395Z",
     "shell.execute_reply": "2022-12-26T00:42:35.026462Z"
    },
    "papermill": {
     "duration": 0.026157,
     "end_time": "2022-12-26T00:42:35.029356",
     "exception": false,
     "start_time": "2022-12-26T00:42:35.003199",
     "status": "completed"
    },
    "tags": []
   },
   "outputs": [],
   "source": [
    "for layer in Arc_model.layers:\n",
    "    layer.trainable = False"
   ]
  },
  {
   "cell_type": "code",
   "execution_count": 16,
   "id": "ed3f15ba",
   "metadata": {
    "execution": {
     "iopub.execute_input": "2022-12-26T00:42:35.057911Z",
     "iopub.status.busy": "2022-12-26T00:42:35.057625Z",
     "iopub.status.idle": "2022-12-26T00:42:35.062319Z",
     "shell.execute_reply": "2022-12-26T00:42:35.061311Z"
    },
    "papermill": {
     "duration": 0.021586,
     "end_time": "2022-12-26T00:42:35.064595",
     "exception": false,
     "start_time": "2022-12-26T00:42:35.043009",
     "status": "completed"
    },
    "tags": []
   },
   "outputs": [],
   "source": [
    "es=EarlyStopping(monitor='val_accuracy', mode='max', verbose=1, patience=5)\n"
   ]
  },
  {
   "cell_type": "code",
   "execution_count": 17,
   "id": "904d55a9",
   "metadata": {
    "execution": {
     "iopub.execute_input": "2022-12-26T00:42:35.092613Z",
     "iopub.status.busy": "2022-12-26T00:42:35.092354Z",
     "iopub.status.idle": "2022-12-26T00:42:35.107158Z",
     "shell.execute_reply": "2022-12-26T00:42:35.106355Z"
    },
    "papermill": {
     "duration": 0.031143,
     "end_time": "2022-12-26T00:42:35.109163",
     "exception": false,
     "start_time": "2022-12-26T00:42:35.078020",
     "status": "completed"
    },
    "tags": []
   },
   "outputs": [],
   "source": [
    "model.compile(optimizer='adam', loss='categorical_crossentropy', metrics=['accuracy'])"
   ]
  },
  {
   "cell_type": "code",
   "execution_count": 18,
   "id": "6f255d5f",
   "metadata": {
    "execution": {
     "iopub.execute_input": "2022-12-26T00:42:35.137487Z",
     "iopub.status.busy": "2022-12-26T00:42:35.137234Z",
     "iopub.status.idle": "2022-12-26T00:43:08.766034Z",
     "shell.execute_reply": "2022-12-26T00:43:08.764882Z"
    },
    "papermill": {
     "duration": 33.645474,
     "end_time": "2022-12-26T00:43:08.768157",
     "exception": false,
     "start_time": "2022-12-26T00:42:35.122683",
     "status": "completed"
    },
    "tags": []
   },
   "outputs": [
    {
     "name": "stderr",
     "output_type": "stream",
     "text": [
      "2022-12-26 00:42:35.576749: I tensorflow/compiler/mlir/mlir_graph_optimization_pass.cc:185] None of the MLIR Optimization Passes are enabled (registered 2)\n"
     ]
    },
    {
     "name": "stdout",
     "output_type": "stream",
     "text": [
      "Epoch 1/100\n"
     ]
    },
    {
     "name": "stderr",
     "output_type": "stream",
     "text": [
      "2022-12-26 00:42:39.105648: I tensorflow/stream_executor/cuda/cuda_dnn.cc:369] Loaded cuDNN version 8005\n"
     ]
    },
    {
     "name": "stdout",
     "output_type": "stream",
     "text": [
      "42/42 [==============================] - 14s 110ms/step - loss: 2.7196 - accuracy: 0.7334 - val_loss: 0.3145 - val_accuracy: 0.9201\n",
      "Epoch 2/100\n",
      "42/42 [==============================] - 3s 66ms/step - loss: 0.1245 - accuracy: 0.9643 - val_loss: 0.3538 - val_accuracy: 0.8964\n",
      "Epoch 3/100\n",
      "42/42 [==============================] - 3s 66ms/step - loss: 0.0410 - accuracy: 0.9851 - val_loss: 0.3160 - val_accuracy: 0.9438\n",
      "Epoch 4/100\n",
      "42/42 [==============================] - 3s 66ms/step - loss: 0.0137 - accuracy: 0.9940 - val_loss: 0.4069 - val_accuracy: 0.9438\n",
      "Epoch 5/100\n",
      "42/42 [==============================] - 3s 67ms/step - loss: 0.0073 - accuracy: 0.9978 - val_loss: 0.4056 - val_accuracy: 0.9260\n",
      "Epoch 6/100\n",
      "42/42 [==============================] - 3s 67ms/step - loss: 6.3009e-04 - accuracy: 1.0000 - val_loss: 0.3244 - val_accuracy: 0.9438\n",
      "Epoch 7/100\n",
      "42/42 [==============================] - 3s 66ms/step - loss: 1.2610e-04 - accuracy: 1.0000 - val_loss: 0.3436 - val_accuracy: 0.9379\n",
      "Epoch 8/100\n",
      "42/42 [==============================] - 3s 66ms/step - loss: 5.9896e-05 - accuracy: 1.0000 - val_loss: 0.3381 - val_accuracy: 0.9438\n",
      "Epoch 00008: early stopping\n"
     ]
    },
    {
     "data": {
      "text/plain": [
       "<keras.callbacks.History at 0x7f95282f2bd0>"
      ]
     },
     "execution_count": 18,
     "metadata": {},
     "output_type": "execute_result"
    }
   ],
   "source": [
    "model.fit(X_train, y_train, epochs=100,validation_data=(x_val,y_val),callbacks=[es])"
   ]
  },
  {
   "cell_type": "code",
   "execution_count": 19,
   "id": "c2326c2a",
   "metadata": {
    "execution": {
     "iopub.execute_input": "2022-12-26T00:43:08.833324Z",
     "iopub.status.busy": "2022-12-26T00:43:08.832709Z",
     "iopub.status.idle": "2022-12-26T00:43:21.543417Z",
     "shell.execute_reply": "2022-12-26T00:43:21.542421Z"
    },
    "papermill": {
     "duration": 12.745519,
     "end_time": "2022-12-26T00:43:21.545825",
     "exception": false,
     "start_time": "2022-12-26T00:43:08.800306",
     "status": "completed"
    },
    "tags": []
   },
   "outputs": [],
   "source": [
    "import pandas as pd\n",
    "\n",
    "result = pd.DataFrame(columns=['image_name','label'])\n",
    "ids = y_test\n",
    "labels =[]\n",
    "results = model.predict(X_test)\n",
    "for i in range(len(ids)):\n",
    "    prediction = results[i]\n",
    "    L=[prediction[0],prediction[1],prediction[2],prediction[3],prediction[4],prediction[5]]\n",
    "    labels.append(L.index(max(L)))\n",
    "    \n",
    "result['image_name'] = ids\n",
    "result['label']=labels\n",
    "result.to_csv(r'submissionResNetV2.csv',index=False)"
   ]
  },
  {
   "cell_type": "code",
   "execution_count": 20,
   "id": "42498727",
   "metadata": {
    "execution": {
     "iopub.execute_input": "2022-12-26T00:43:21.620378Z",
     "iopub.status.busy": "2022-12-26T00:43:21.619357Z",
     "iopub.status.idle": "2022-12-26T00:43:21.679412Z",
     "shell.execute_reply": "2022-12-26T00:43:21.678360Z"
    },
    "papermill": {
     "duration": 0.104545,
     "end_time": "2022-12-26T00:43:21.681968",
     "exception": false,
     "start_time": "2022-12-26T00:43:21.577423",
     "status": "completed"
    },
    "tags": []
   },
   "outputs": [
    {
     "name": "stderr",
     "output_type": "stream",
     "text": [
      "/opt/conda/lib/python3.7/site-packages/keras/utils/generic_utils.py:497: CustomMaskWarning: Custom mask layers require a config and must override get_config. When loading, the custom mask layer must be passed to the custom_objects argument.\n",
      "  category=CustomMaskWarning)\n"
     ]
    }
   ],
   "source": [
    "from keras.models import model_from_json\n",
    "\n",
    "save_model_json = model.to_json()\n",
    "with open(\"myModelResNet50V2.json\", \"w\") as json_file:\n",
    "    json_file.write(save_model_json )"
   ]
  },
  {
   "cell_type": "code",
   "execution_count": 21,
   "id": "778cc685",
   "metadata": {
    "execution": {
     "iopub.execute_input": "2022-12-26T00:43:21.747495Z",
     "iopub.status.busy": "2022-12-26T00:43:21.746559Z",
     "iopub.status.idle": "2022-12-26T00:43:22.161772Z",
     "shell.execute_reply": "2022-12-26T00:43:22.160582Z"
    },
    "papermill": {
     "duration": 0.450045,
     "end_time": "2022-12-26T00:43:22.164445",
     "exception": false,
     "start_time": "2022-12-26T00:43:21.714400",
     "status": "completed"
    },
    "tags": []
   },
   "outputs": [],
   "source": [
    "model.save_weights(\"myModelResNet50V2.h5\")\n"
   ]
  },
  {
   "cell_type": "code",
   "execution_count": 22,
   "id": "bab4fa96",
   "metadata": {
    "execution": {
     "iopub.execute_input": "2022-12-26T00:43:22.229990Z",
     "iopub.status.busy": "2022-12-26T00:43:22.229126Z",
     "iopub.status.idle": "2022-12-26T00:43:22.820801Z",
     "shell.execute_reply": "2022-12-26T00:43:22.819790Z"
    },
    "papermill": {
     "duration": 0.626548,
     "end_time": "2022-12-26T00:43:22.823337",
     "exception": false,
     "start_time": "2022-12-26T00:43:22.196789",
     "status": "completed"
    },
    "tags": []
   },
   "outputs": [],
   "source": [
    "model.save(\"ResNet50allV2.h5\")"
   ]
  }
 ],
 "metadata": {
  "kernelspec": {
   "display_name": "Python 3 (ipykernel)",
   "language": "python",
   "name": "python3"
  },
  "language_info": {
   "codemirror_mode": {
    "name": "ipython",
    "version": 3
   },
   "file_extension": ".py",
   "mimetype": "text/x-python",
   "name": "python",
   "nbconvert_exporter": "python",
   "pygments_lexer": "ipython3",
   "version": "3.9.7"
  },
  "papermill": {
   "default_parameters": {},
   "duration": 93.296794,
   "end_time": "2022-12-26T00:43:26.419818",
   "environment_variables": {},
   "exception": null,
   "input_path": "__notebook__.ipynb",
   "output_path": "__notebook__.ipynb",
   "parameters": {},
   "start_time": "2022-12-26T00:41:53.123024",
   "version": "2.3.4"
  }
 },
 "nbformat": 4,
 "nbformat_minor": 5
}
